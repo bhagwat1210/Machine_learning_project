{
 "cells": [
  {
   "cell_type": "markdown",
   "metadata": {},
   "source": [
    "### Loading required libraries"
   ]
  },
  {
   "cell_type": "code",
   "execution_count": 83,
   "metadata": {
    "collapsed": false
   },
   "outputs": [],
   "source": [
    "# Loading required libraries\n",
    "\n",
    "#special IPython command to prepare the notebook for matplotlib\n",
    "%matplotlib inline\n",
    "\n",
    "#test file related libraries\n",
    "import glob\n",
    "import csv\n",
    "\n",
    "#import libraries\n",
    "import numpy as np\n",
    "import pandas as pd # pandas\n",
    "import matplotlib.pyplot as plt # module for plotting \n",
    "from statsmodels.nonparametric.api import lowess\n",
    "#from mpl_toolkits.basemap import Basemap\n",
    "from matplotlib.patches import Polygon\n",
    "import statsmodels.formula.api as smf\n",
    "from sklearn.ensemble import RandomForestClassifier\n",
    "from sklearn.cross_validation import cross_val_score\n",
    "import sklearn.decomposition\n",
    "import sklearn.cluster\n",
    "from matplotlib import gridspec\n",
    "#import seaborn as sns\n",
    "import datetime\n",
    "\n",
    "#set default plot characterstics and colors\n",
    "from matplotlib import rcParams\n",
    "\n",
    "dark_colors = [\"#99D699\", \"#B2B2B2\",\n",
    "                (0.8509803921568627, 0.37254901960784315, 0.00784313725490196),\n",
    "                (0.4588235294117647, 0.4392156862745098, 0.7019607843137254),\n",
    "                (0.9058823529411765, 0.1607843137254902, 0.5411764705882353),\n",
    "                (0.4, 0.6509803921568628, 0.11764705882352941),\n",
    "                (0.9019607843137255, 0.6705882352941176, 0.00784313725490196),\n",
    "                (0.6509803921568628, 0.4627450980392157, 0.11372549019607843),\n",
    "                (0.4, 0.4, 0.4)]\n",
    "\n",
    "rcParams['figure.figsize'] = (12, 9)\n",
    "rcParams['figure.dpi'] = 150\n",
    "rcParams['axes.color_cycle'] = dark_colors\n",
    "rcParams['lines.linewidth'] = 2\n",
    "rcParams['axes.facecolor'] = \"white\"\n",
    "rcParams['axes.titlesize'] = 20      \n",
    "rcParams['axes.labelsize'] = 17.5\n",
    "rcParams['xtick.labelsize'] = 15 \n",
    "rcParams['ytick.labelsize'] = 15\n",
    "rcParams['legend.fontsize'] = 17.5\n",
    "rcParams['patch.edgecolor'] = 'none'\n",
    "rcParams['grid.color']=\"white\"   \n",
    "rcParams['grid.linestyle']=\"-\" \n",
    "rcParams['grid.linewidth'] = 1\n",
    "rcParams['grid.alpha']=1\n",
    "rcParams['text.color'] = \"444444\"\n",
    "rcParams['axes.labelcolor'] = \"444444\"\n",
    "rcParams['ytick.color'] = \"444444\"\n",
    "rcParams['xtick.color'] = \"444444\"\n",
    "\n",
    "# Supressing the print output of warnings\n",
    "import warnings\n",
    "warnings.filterwarnings(\"ignore\")"
   ]
  },
  {
   "cell_type": "markdown",
   "metadata": {},
   "source": [
    "### Checking for discrepancies in the original text files\n",
    "During a quick observation, it was noted that in some records the dock_name column had spurious values and these need to be cleaded before going ahead to the next stage of the analysis"
   ]
  },
  {
   "cell_type": "code",
   "execution_count": 2,
   "metadata": {
    "collapsed": false
   },
   "outputs": [],
   "source": [
    "#filenames = glob.glob('./Raw/*.csv')\n",
    "#filenames"
   ]
  },
  {
   "cell_type": "code",
   "execution_count": 3,
   "metadata": {
    "collapsed": false
   },
   "outputs": [],
   "source": [
    "#def chkforissues(filename):\n",
    "#    with open(filename, 'r') as fi:\n",
    "#        reader = csv.DictReader(fi, delimiter='\\t')\n",
    "#        for line in reader:\n",
    "#            if len(line['dock_name']) < 2:\n",
    "#                print line\n",
    "\n",
    "#for i in filenames:\n",
    "#    print i\n",
    "#    chkforissues(i)"
   ]
  },
  {
   "cell_type": "markdown",
   "metadata": {},
   "source": [
    "### Doing checks on the March 2015 file for choosing the stations"
   ]
  },
  {
   "cell_type": "code",
   "execution_count": 4,
   "metadata": {
    "collapsed": false
   },
   "outputs": [
    {
     "name": "stdout",
     "output_type": "stream",
     "text": [
      "(1372284, 13)\n",
      "Index(['dock_id', 'dock_name', 'date', 'hour', 'minute', 'pm', 'avail_bikes',\n",
      "       'avail_docks', 'tot_docks', '_lat', '_long', 'in_service',\n",
      "       'status_key'],\n",
      "      dtype='object')\n"
     ]
    }
   ],
   "source": [
    "# Loading the data\n",
    "datamar2015 = pd.read_csv('Raw/bikeshare_nyc_raw_032015.csv', sep='\\t')\n",
    "print(datamar2015.shape)\n",
    "print(datamar2015.columns)"
   ]
  },
  {
   "cell_type": "code",
   "execution_count": 5,
   "metadata": {
    "collapsed": false
   },
   "outputs": [
    {
     "data": {
      "text/html": [
       "<div>\n",
       "<table border=\"1\" class=\"dataframe\">\n",
       "  <thead>\n",
       "    <tr style=\"text-align: right;\">\n",
       "      <th></th>\n",
       "      <th>dock_id</th>\n",
       "      <th>dock_name</th>\n",
       "      <th>date</th>\n",
       "      <th>hour</th>\n",
       "      <th>minute</th>\n",
       "      <th>pm</th>\n",
       "      <th>avail_bikes</th>\n",
       "      <th>avail_docks</th>\n",
       "      <th>tot_docks</th>\n",
       "      <th>_lat</th>\n",
       "      <th>_long</th>\n",
       "      <th>in_service</th>\n",
       "      <th>status_key</th>\n",
       "    </tr>\n",
       "  </thead>\n",
       "  <tbody>\n",
       "    <tr>\n",
       "      <th>0</th>\n",
       "      <td>72</td>\n",
       "      <td>W 52 St &amp; 11 Ave</td>\n",
       "      <td>15-03-01</td>\n",
       "      <td>1</td>\n",
       "      <td>6</td>\n",
       "      <td>0</td>\n",
       "      <td>8</td>\n",
       "      <td>31</td>\n",
       "      <td>39</td>\n",
       "      <td>40.767272</td>\n",
       "      <td>-73.993929</td>\n",
       "      <td>1</td>\n",
       "      <td>1</td>\n",
       "    </tr>\n",
       "    <tr>\n",
       "      <th>1</th>\n",
       "      <td>72</td>\n",
       "      <td>W 52 St &amp; 11 Ave</td>\n",
       "      <td>15-03-01</td>\n",
       "      <td>1</td>\n",
       "      <td>16</td>\n",
       "      <td>0</td>\n",
       "      <td>8</td>\n",
       "      <td>31</td>\n",
       "      <td>39</td>\n",
       "      <td>40.767272</td>\n",
       "      <td>-73.993929</td>\n",
       "      <td>1</td>\n",
       "      <td>1</td>\n",
       "    </tr>\n",
       "    <tr>\n",
       "      <th>2</th>\n",
       "      <td>72</td>\n",
       "      <td>W 52 St &amp; 11 Ave</td>\n",
       "      <td>15-03-01</td>\n",
       "      <td>1</td>\n",
       "      <td>25</td>\n",
       "      <td>0</td>\n",
       "      <td>8</td>\n",
       "      <td>30</td>\n",
       "      <td>38</td>\n",
       "      <td>40.767272</td>\n",
       "      <td>-73.993929</td>\n",
       "      <td>1</td>\n",
       "      <td>1</td>\n",
       "    </tr>\n",
       "    <tr>\n",
       "      <th>3</th>\n",
       "      <td>72</td>\n",
       "      <td>W 52 St &amp; 11 Ave</td>\n",
       "      <td>15-03-01</td>\n",
       "      <td>1</td>\n",
       "      <td>35</td>\n",
       "      <td>0</td>\n",
       "      <td>8</td>\n",
       "      <td>30</td>\n",
       "      <td>38</td>\n",
       "      <td>40.767272</td>\n",
       "      <td>-73.993929</td>\n",
       "      <td>1</td>\n",
       "      <td>1</td>\n",
       "    </tr>\n",
       "    <tr>\n",
       "      <th>4</th>\n",
       "      <td>72</td>\n",
       "      <td>W 52 St &amp; 11 Ave</td>\n",
       "      <td>15-03-01</td>\n",
       "      <td>1</td>\n",
       "      <td>45</td>\n",
       "      <td>0</td>\n",
       "      <td>8</td>\n",
       "      <td>30</td>\n",
       "      <td>38</td>\n",
       "      <td>40.767272</td>\n",
       "      <td>-73.993929</td>\n",
       "      <td>1</td>\n",
       "      <td>1</td>\n",
       "    </tr>\n",
       "  </tbody>\n",
       "</table>\n",
       "</div>"
      ],
      "text/plain": [
       "   dock_id         dock_name      date  hour  minute  pm  avail_bikes  \\\n",
       "0       72  W 52 St & 11 Ave  15-03-01     1       6   0            8   \n",
       "1       72  W 52 St & 11 Ave  15-03-01     1      16   0            8   \n",
       "2       72  W 52 St & 11 Ave  15-03-01     1      25   0            8   \n",
       "3       72  W 52 St & 11 Ave  15-03-01     1      35   0            8   \n",
       "4       72  W 52 St & 11 Ave  15-03-01     1      45   0            8   \n",
       "\n",
       "   avail_docks  tot_docks       _lat      _long  in_service  status_key  \n",
       "0           31         39  40.767272 -73.993929           1           1  \n",
       "1           31         39  40.767272 -73.993929           1           1  \n",
       "2           30         38  40.767272 -73.993929           1           1  \n",
       "3           30         38  40.767272 -73.993929           1           1  \n",
       "4           30         38  40.767272 -73.993929           1           1  "
      ]
     },
     "execution_count": 5,
     "metadata": {},
     "output_type": "execute_result"
    }
   ],
   "source": [
    "# Checking for first few observations\n",
    "datamar2015.head()"
   ]
  },
  {
   "cell_type": "code",
   "execution_count": 6,
   "metadata": {
    "collapsed": false
   },
   "outputs": [
    {
     "name": "stdout",
     "output_type": "stream",
     "text": [
      "(1332133, 13)\n"
     ]
    }
   ],
   "source": [
    "# {\"1\":\"In Service\",\"2\":\"Planned\",\"3\":\"Not In Service\",\"4\":\"De-registered\"}\n",
    "# Subsetting records only for valid station status key\n",
    "datamar2015 = datamar2015.loc[datamar2015['status_key']==1,:]\n",
    "print(datamar2015.shape)"
   ]
  },
  {
   "cell_type": "code",
   "execution_count": 7,
   "metadata": {
    "collapsed": false
   },
   "outputs": [
    {
     "name": "stdout",
     "output_type": "stream",
     "text": [
      "744\n"
     ]
    }
   ],
   "source": [
    "# Computing the number of 1 hour intervals for the month of March 2015\n",
    "ts = pd.Series(pd.date_range('3/1/2015','4/1/2015', freq='60min'))\n",
    "print(len(ts)-1)"
   ]
  },
  {
   "cell_type": "markdown",
   "metadata": {},
   "source": [
    ">__\"In the month of march 2015, there should be ideally about 744 one hour intervals and from the data loaded above, respective checks are made whether station id have data across all these hour intervals.\"__"
   ]
  },
  {
   "cell_type": "code",
   "execution_count": 8,
   "metadata": {
    "collapsed": false
   },
   "outputs": [
    {
     "name": "stdout",
     "output_type": "stream",
     "text": [
      "31\n"
     ]
    }
   ],
   "source": [
    "# Checking for unique date levels\n",
    "print(len(datamar2015['date'].unique()))"
   ]
  },
  {
   "cell_type": "markdown",
   "metadata": {},
   "source": [
    ">__\"31 unique date values are noted in the loaded dataset which is equivalent to number of days for March 2015.\"__"
   ]
  },
  {
   "cell_type": "code",
   "execution_count": 9,
   "metadata": {
    "collapsed": false
   },
   "outputs": [
    {
     "name": "stdout",
     "output_type": "stream",
     "text": [
      "<class 'pandas.core.frame.DataFrame'>\n",
      "Int64Index: 1332133 entries, 0 to 1372281\n",
      "Data columns (total 13 columns):\n",
      "dock_id        1332133 non-null int64\n",
      "dock_name      1332133 non-null object\n",
      "date           1332133 non-null object\n",
      "hour           1332133 non-null int64\n",
      "minute         1332133 non-null int64\n",
      "pm             1332133 non-null int64\n",
      "avail_bikes    1332133 non-null int64\n",
      "avail_docks    1332133 non-null int64\n",
      "tot_docks      1332133 non-null int64\n",
      "_lat           1332133 non-null float64\n",
      "_long          1332133 non-null float64\n",
      "in_service     1332133 non-null int64\n",
      "status_key     1332133 non-null int64\n",
      "dtypes: float64(2), int64(9), object(2)\n",
      "memory usage: 142.3+ MB\n"
     ]
    }
   ],
   "source": [
    "datamar2015.info()"
   ]
  },
  {
   "cell_type": "code",
   "execution_count": 10,
   "metadata": {
    "collapsed": false
   },
   "outputs": [],
   "source": [
    "# Given hour column is based on 12 hour interval\n",
    "# Creating new hour column for 24 hour interval\n",
    "datamar2015['hour_new'] = (datamar2015['pm']*12)+datamar2015['hour']-1"
   ]
  },
  {
   "cell_type": "code",
   "execution_count": 11,
   "metadata": {
    "collapsed": true
   },
   "outputs": [],
   "source": [
    "# Given hour column is based on 12 hour interval\n",
    "# Creating new hour column for 24 hour interval\n",
    "#hr12tohr24 = {0:{1:0, 2:1, 3:2, 4:3, 5:4, 6:5, 7:6, 8:7, 9:8, 10:9, 11:10, 12:11}, \n",
    "#              1:{1:12, 2:13, 3:14, 4:15, 5:16, 6:17, 7:18, 8:19, 9:20, 10:21, 11:22, 12:23}}\n",
    "\n",
    "#def create24hr(row):\n",
    "#    val1 = row['pm']\n",
    "#    val2 = row['hour']\n",
    "#    d = hr12tohr24[val1][val2]\n",
    "#    return d\n",
    "\n",
    "#datamar2015['hour_new'] = datamar2015.apply(create24hr, axis=1)"
   ]
  },
  {
   "cell_type": "code",
   "execution_count": 12,
   "metadata": {
    "collapsed": false
   },
   "outputs": [
    {
     "name": "stdout",
     "output_type": "stream",
     "text": [
      "24\n"
     ]
    }
   ],
   "source": [
    "# Checking for unique hour levels\n",
    "print(len(datamar2015['hour_new'].unique()))"
   ]
  },
  {
   "cell_type": "code",
   "execution_count": 13,
   "metadata": {
    "collapsed": false
   },
   "outputs": [
    {
     "name": "stdout",
     "output_type": "stream",
     "text": [
      "24\n"
     ]
    }
   ],
   "source": [
    "out = datamar2015.groupby(['pm','hour','hour_new']).size()\n",
    "print(len(out))\n",
    "#print out"
   ]
  },
  {
   "cell_type": "markdown",
   "metadata": {},
   "source": [
    ">__\"24 unique hour values are noted in the loaded dataset which validates the mapping task performed earlier.\"__"
   ]
  },
  {
   "cell_type": "code",
   "execution_count": 14,
   "metadata": {
    "collapsed": false
   },
   "outputs": [
    {
     "data": {
      "text/plain": [
       "744"
      ]
     },
     "execution_count": 14,
     "metadata": {},
     "output_type": "execute_result"
    }
   ],
   "source": [
    "24*31"
   ]
  },
  {
   "cell_type": "code",
   "execution_count": 15,
   "metadata": {
    "collapsed": false
   },
   "outputs": [],
   "source": [
    "# Checking for whether station_ids have required one hour intervals in the data\n",
    "docks = datamar2015['dock_id'].unique()\n",
    "#len(docks)\n",
    "units = {}\n",
    "for dock in docks:\n",
    "    test = datamar2015[datamar2015['dock_id']==dock]\n",
    "    unitlen = len(test.groupby(['date','hour_new']).size())\n",
    "    units[dock] = unitlen\n",
    "    \n",
    "units = pd.DataFrame.from_dict(units, orient='index')\n",
    "units = units.reset_index()\n",
    "units.columns = ['dock_id', 'intervals']\n",
    "#units.sort('dock_id', ascending=True)[:10]"
   ]
  },
  {
   "cell_type": "code",
   "execution_count": 16,
   "metadata": {
    "collapsed": false
   },
   "outputs": [
    {
     "name": "stdout",
     "output_type": "stream",
     "text": [
      "328\n",
      "324\n"
     ]
    }
   ],
   "source": [
    "# Selecting only those station ids within 20% of 744 intervals\n",
    "mar2015_docks = units.loc[units['intervals']>int(744-0.20*744),'dock_id'].tolist()\n",
    "\n",
    "# Checking for differences from actual dock_id numbers\n",
    "print(len(datamar2015['dock_id'].unique()))\n",
    "print(len(mar2015_docks))\n",
    "\n",
    "#datamar2015_final = datamar2015[datamar2015['dock_id'].isin(mar2015_docks)]\n",
    "#print len(datamar2015_final['dock_id'].unique())"
   ]
  },
  {
   "cell_type": "markdown",
   "metadata": {},
   "source": [
    "### Doing similar checks across other months and identifying stations with data across all months"
   ]
  },
  {
   "cell_type": "markdown",
   "metadata": {},
   "source": [
    "#### April 2015"
   ]
  },
  {
   "cell_type": "code",
   "execution_count": 17,
   "metadata": {
    "collapsed": false
   },
   "outputs": [
    {
     "name": "stdout",
     "output_type": "stream",
     "text": [
      "720\n"
     ]
    }
   ],
   "source": [
    "# Computing the number of 1 hour intervals for the month of April 2015\n",
    "ts = pd.Series(pd.date_range('4/1/2015','5/1/2015', freq='60min'))\n",
    "print(len(ts)-1)"
   ]
  },
  {
   "cell_type": "code",
   "execution_count": 18,
   "metadata": {
    "collapsed": false
   },
   "outputs": [
    {
     "name": "stdout",
     "output_type": "stream",
     "text": [
      "(1224511, 13)\n",
      "Index(['dock_id', 'dock_name', 'date', 'hour', 'minute', 'pm', 'avail_bikes',\n",
      "       'avail_docks', 'tot_docks', '_lat', '_long', 'in_service',\n",
      "       'status_key'],\n",
      "      dtype='object')\n",
      "(1191059, 13)\n"
     ]
    },
    {
     "data": {
      "text/html": [
       "<div>\n",
       "<table border=\"1\" class=\"dataframe\">\n",
       "  <thead>\n",
       "    <tr style=\"text-align: right;\">\n",
       "      <th></th>\n",
       "      <th>dock_id</th>\n",
       "      <th>dock_name</th>\n",
       "      <th>date</th>\n",
       "      <th>hour</th>\n",
       "      <th>minute</th>\n",
       "      <th>pm</th>\n",
       "      <th>avail_bikes</th>\n",
       "      <th>avail_docks</th>\n",
       "      <th>tot_docks</th>\n",
       "      <th>_lat</th>\n",
       "      <th>_long</th>\n",
       "      <th>in_service</th>\n",
       "      <th>status_key</th>\n",
       "    </tr>\n",
       "  </thead>\n",
       "  <tbody>\n",
       "    <tr>\n",
       "      <th>0</th>\n",
       "      <td>116</td>\n",
       "      <td>W 17 St &amp; 8 Ave</td>\n",
       "      <td>15-04-02</td>\n",
       "      <td>2</td>\n",
       "      <td>52</td>\n",
       "      <td>1</td>\n",
       "      <td>5</td>\n",
       "      <td>32</td>\n",
       "      <td>32</td>\n",
       "      <td>40.741776</td>\n",
       "      <td>-74.001497</td>\n",
       "      <td>1</td>\n",
       "      <td>1</td>\n",
       "    </tr>\n",
       "    <tr>\n",
       "      <th>1</th>\n",
       "      <td>116</td>\n",
       "      <td>W 17 St &amp; 8 Ave</td>\n",
       "      <td>15-04-02</td>\n",
       "      <td>3</td>\n",
       "      <td>3</td>\n",
       "      <td>1</td>\n",
       "      <td>1</td>\n",
       "      <td>36</td>\n",
       "      <td>36</td>\n",
       "      <td>40.741776</td>\n",
       "      <td>-74.001497</td>\n",
       "      <td>1</td>\n",
       "      <td>1</td>\n",
       "    </tr>\n",
       "    <tr>\n",
       "      <th>2</th>\n",
       "      <td>116</td>\n",
       "      <td>W 17 St &amp; 8 Ave</td>\n",
       "      <td>15-04-02</td>\n",
       "      <td>3</td>\n",
       "      <td>13</td>\n",
       "      <td>1</td>\n",
       "      <td>2</td>\n",
       "      <td>35</td>\n",
       "      <td>35</td>\n",
       "      <td>40.741776</td>\n",
       "      <td>-74.001497</td>\n",
       "      <td>1</td>\n",
       "      <td>1</td>\n",
       "    </tr>\n",
       "    <tr>\n",
       "      <th>3</th>\n",
       "      <td>116</td>\n",
       "      <td>W 17 St &amp; 8 Ave</td>\n",
       "      <td>15-04-02</td>\n",
       "      <td>3</td>\n",
       "      <td>24</td>\n",
       "      <td>1</td>\n",
       "      <td>3</td>\n",
       "      <td>34</td>\n",
       "      <td>34</td>\n",
       "      <td>40.741776</td>\n",
       "      <td>-74.001497</td>\n",
       "      <td>1</td>\n",
       "      <td>1</td>\n",
       "    </tr>\n",
       "    <tr>\n",
       "      <th>4</th>\n",
       "      <td>116</td>\n",
       "      <td>W 17 St &amp; 8 Ave</td>\n",
       "      <td>15-04-02</td>\n",
       "      <td>3</td>\n",
       "      <td>35</td>\n",
       "      <td>1</td>\n",
       "      <td>2</td>\n",
       "      <td>35</td>\n",
       "      <td>35</td>\n",
       "      <td>40.741776</td>\n",
       "      <td>-74.001497</td>\n",
       "      <td>1</td>\n",
       "      <td>1</td>\n",
       "    </tr>\n",
       "  </tbody>\n",
       "</table>\n",
       "</div>"
      ],
      "text/plain": [
       "   dock_id        dock_name      date  hour  minute  pm  avail_bikes  \\\n",
       "0      116  W 17 St & 8 Ave  15-04-02     2      52   1            5   \n",
       "1      116  W 17 St & 8 Ave  15-04-02     3       3   1            1   \n",
       "2      116  W 17 St & 8 Ave  15-04-02     3      13   1            2   \n",
       "3      116  W 17 St & 8 Ave  15-04-02     3      24   1            3   \n",
       "4      116  W 17 St & 8 Ave  15-04-02     3      35   1            2   \n",
       "\n",
       "   avail_docks  tot_docks       _lat      _long  in_service  status_key  \n",
       "0           32         32  40.741776 -74.001497           1           1  \n",
       "1           36         36  40.741776 -74.001497           1           1  \n",
       "2           35         35  40.741776 -74.001497           1           1  \n",
       "3           34         34  40.741776 -74.001497           1           1  \n",
       "4           35         35  40.741776 -74.001497           1           1  "
      ]
     },
     "execution_count": 18,
     "metadata": {},
     "output_type": "execute_result"
    }
   ],
   "source": [
    "# Loading the data\n",
    "dataapr2015 = pd.read_csv('Raw/bikeshare_nyc_raw_042015.csv', sep='\\t')\n",
    "print(dataapr2015.shape)\n",
    "print(dataapr2015.columns)\n",
    "\n",
    "# {\"1\":\"In Service\",\"2\":\"Planned\",\"3\":\"Not In Service\",\"4\":\"De-registered\"}\n",
    "# Subsetting records only for valid station status key\n",
    "dataapr2015 = dataapr2015.loc[dataapr2015['status_key']==1,:]\n",
    "print(dataapr2015.shape)\n",
    "\n",
    "# Checking for first few observations\n",
    "dataapr2015.head()"
   ]
  },
  {
   "cell_type": "code",
   "execution_count": 19,
   "metadata": {
    "collapsed": false
   },
   "outputs": [
    {
     "name": "stdout",
     "output_type": "stream",
     "text": [
      "29\n",
      "24\n"
     ]
    }
   ],
   "source": [
    "# Checking for unique date levels\n",
    "print(len(dataapr2015['date'].unique()))\n",
    "\n",
    "# Given hour column is based on 12 hour interval\n",
    "# Creating new hour column for 24 hour interval\n",
    "dataapr2015['hour_new'] = (dataapr2015['pm']*12)+dataapr2015['hour']-1\n",
    "\n",
    "# Checking for unique hour levels\n",
    "print(len(dataapr2015['hour_new'].unique()))\n",
    "\n",
    "# Checking for whether station_ids have required one hour intervals in the data\n",
    "docks = dataapr2015['dock_id'].unique()\n",
    "#len(docks)\n",
    "units = {}\n",
    "for dock in docks:\n",
    "    test = dataapr2015[dataapr2015['dock_id']==dock]\n",
    "    unitlen = len(test.groupby(['date','hour_new']).size())\n",
    "    units[dock] = unitlen\n",
    "    \n",
    "units = pd.DataFrame.from_dict(units, orient='index')\n",
    "units = units.reset_index()\n",
    "units.columns = ['dock_id', 'intervals']\n",
    "#units.sort('dock_id', ascending=True)[:10]"
   ]
  },
  {
   "cell_type": "code",
   "execution_count": 20,
   "metadata": {
    "collapsed": false
   },
   "outputs": [
    {
     "name": "stdout",
     "output_type": "stream",
     "text": [
      "328\n",
      "315\n",
      "313\n"
     ]
    }
   ],
   "source": [
    "# Selecting only those station ids within 20% of 720 intervals\n",
    "apr2015_docks = units.loc[units['intervals']>int(720-0.20*720),'dock_id'].tolist()\n",
    "\n",
    "# Checking for differences from actual dock_id numbers\n",
    "print(len(dataapr2015['dock_id'].unique()))\n",
    "print(len(apr2015_docks))\n",
    "\n",
    "\n",
    "# Finding intersection with mar2015 dck_ids\n",
    "def intersect(a, b):\n",
    "    return list(set(a) & set(b))\n",
    "\n",
    "apr2015_docks = intersect(apr2015_docks, mar2015_docks)\n",
    "print(len(apr2015_docks))"
   ]
  },
  {
   "cell_type": "markdown",
   "metadata": {},
   "source": [
    "#### May 2015"
   ]
  },
  {
   "cell_type": "code",
   "execution_count": 21,
   "metadata": {
    "collapsed": false
   },
   "outputs": [
    {
     "name": "stdout",
     "output_type": "stream",
     "text": [
      "744\n"
     ]
    }
   ],
   "source": [
    "# Computing the number of 1 hour intervals for the month of May 2015\n",
    "ts = pd.Series(pd.date_range('5/1/2015','6/1/2015', freq='60min'))\n",
    "print(len(ts)-1)"
   ]
  },
  {
   "cell_type": "code",
   "execution_count": 22,
   "metadata": {
    "collapsed": false
   },
   "outputs": [
    {
     "name": "stdout",
     "output_type": "stream",
     "text": [
      "(1391635, 13)\n",
      "Index(['dock_id', 'dock_name', 'date', 'hour', 'minute', 'pm', 'avail_bikes',\n",
      "       'avail_docks', 'tot_docks', '_lat', '_long', 'in_service',\n",
      "       'status_key'],\n",
      "      dtype='object')\n",
      "(1343617, 13)\n"
     ]
    },
    {
     "data": {
      "text/html": [
       "<div>\n",
       "<table border=\"1\" class=\"dataframe\">\n",
       "  <thead>\n",
       "    <tr style=\"text-align: right;\">\n",
       "      <th></th>\n",
       "      <th>dock_id</th>\n",
       "      <th>dock_name</th>\n",
       "      <th>date</th>\n",
       "      <th>hour</th>\n",
       "      <th>minute</th>\n",
       "      <th>pm</th>\n",
       "      <th>avail_bikes</th>\n",
       "      <th>avail_docks</th>\n",
       "      <th>tot_docks</th>\n",
       "      <th>_lat</th>\n",
       "      <th>_long</th>\n",
       "      <th>in_service</th>\n",
       "      <th>status_key</th>\n",
       "    </tr>\n",
       "  </thead>\n",
       "  <tbody>\n",
       "    <tr>\n",
       "      <th>1791</th>\n",
       "      <td>116</td>\n",
       "      <td>W 17 St &amp; 8 Ave</td>\n",
       "      <td>15-05-14</td>\n",
       "      <td>1</td>\n",
       "      <td>1</td>\n",
       "      <td>0</td>\n",
       "      <td>2</td>\n",
       "      <td>37</td>\n",
       "      <td>39</td>\n",
       "      <td>40.741776</td>\n",
       "      <td>-74.0015</td>\n",
       "      <td>1</td>\n",
       "      <td>1</td>\n",
       "    </tr>\n",
       "    <tr>\n",
       "      <th>1792</th>\n",
       "      <td>116</td>\n",
       "      <td>W 17 St &amp; 8 Ave</td>\n",
       "      <td>15-05-14</td>\n",
       "      <td>1</td>\n",
       "      <td>9</td>\n",
       "      <td>0</td>\n",
       "      <td>2</td>\n",
       "      <td>37</td>\n",
       "      <td>39</td>\n",
       "      <td>40.741776</td>\n",
       "      <td>-74.0015</td>\n",
       "      <td>1</td>\n",
       "      <td>1</td>\n",
       "    </tr>\n",
       "    <tr>\n",
       "      <th>1793</th>\n",
       "      <td>116</td>\n",
       "      <td>W 17 St &amp; 8 Ave</td>\n",
       "      <td>15-05-14</td>\n",
       "      <td>1</td>\n",
       "      <td>18</td>\n",
       "      <td>0</td>\n",
       "      <td>2</td>\n",
       "      <td>37</td>\n",
       "      <td>39</td>\n",
       "      <td>40.741776</td>\n",
       "      <td>-74.0015</td>\n",
       "      <td>1</td>\n",
       "      <td>1</td>\n",
       "    </tr>\n",
       "    <tr>\n",
       "      <th>1794</th>\n",
       "      <td>116</td>\n",
       "      <td>W 17 St &amp; 8 Ave</td>\n",
       "      <td>15-05-14</td>\n",
       "      <td>1</td>\n",
       "      <td>26</td>\n",
       "      <td>0</td>\n",
       "      <td>2</td>\n",
       "      <td>37</td>\n",
       "      <td>39</td>\n",
       "      <td>40.741776</td>\n",
       "      <td>-74.0015</td>\n",
       "      <td>1</td>\n",
       "      <td>1</td>\n",
       "    </tr>\n",
       "    <tr>\n",
       "      <th>1795</th>\n",
       "      <td>116</td>\n",
       "      <td>W 17 St &amp; 8 Ave</td>\n",
       "      <td>15-05-14</td>\n",
       "      <td>1</td>\n",
       "      <td>38</td>\n",
       "      <td>0</td>\n",
       "      <td>1</td>\n",
       "      <td>38</td>\n",
       "      <td>39</td>\n",
       "      <td>40.741776</td>\n",
       "      <td>-74.0015</td>\n",
       "      <td>1</td>\n",
       "      <td>1</td>\n",
       "    </tr>\n",
       "  </tbody>\n",
       "</table>\n",
       "</div>"
      ],
      "text/plain": [
       "      dock_id        dock_name      date  hour  minute  pm  avail_bikes  \\\n",
       "1791      116  W 17 St & 8 Ave  15-05-14     1       1   0            2   \n",
       "1792      116  W 17 St & 8 Ave  15-05-14     1       9   0            2   \n",
       "1793      116  W 17 St & 8 Ave  15-05-14     1      18   0            2   \n",
       "1794      116  W 17 St & 8 Ave  15-05-14     1      26   0            2   \n",
       "1795      116  W 17 St & 8 Ave  15-05-14     1      38   0            1   \n",
       "\n",
       "      avail_docks  tot_docks       _lat    _long  in_service  status_key  \n",
       "1791           37         39  40.741776 -74.0015           1           1  \n",
       "1792           37         39  40.741776 -74.0015           1           1  \n",
       "1793           37         39  40.741776 -74.0015           1           1  \n",
       "1794           37         39  40.741776 -74.0015           1           1  \n",
       "1795           38         39  40.741776 -74.0015           1           1  "
      ]
     },
     "execution_count": 22,
     "metadata": {},
     "output_type": "execute_result"
    }
   ],
   "source": [
    "# Loading the data\n",
    "datamay2015 = pd.read_csv('Raw/bikeshare_nyc_raw_052015.csv', sep='\\t')\n",
    "print(datamay2015.shape)\n",
    "print(datamay2015.columns)\n",
    "\n",
    "# {\"1\":\"In Service\",\"2\":\"Planned\",\"3\":\"Not In Service\",\"4\":\"De-registered\"}\n",
    "# Subsetting records only for valid station status key\n",
    "datamay2015 = datamay2015.loc[datamay2015['status_key']==1,:]\n",
    "print(datamay2015.shape)\n",
    "\n",
    "# Checking for first few observations\n",
    "datamay2015.head()"
   ]
  },
  {
   "cell_type": "code",
   "execution_count": 23,
   "metadata": {
    "collapsed": false
   },
   "outputs": [
    {
     "name": "stdout",
     "output_type": "stream",
     "text": [
      "31\n",
      "24\n"
     ]
    }
   ],
   "source": [
    "# Checking for unique date levels\n",
    "print(len(datamay2015['date'].unique()))\n",
    "\n",
    "# Given hour column is based on 12 hour interval\n",
    "# Creating new hour column for 24 hour interval\n",
    "datamay2015['hour_new'] = (datamay2015['pm']*12)+datamay2015['hour']-1\n",
    "\n",
    "# Checking for unique hour levels\n",
    "print(len(datamay2015['hour_new'].unique()))\n",
    "\n",
    "# Checking for whether station_ids have required one hour intervals in the data\n",
    "docks = datamay2015['dock_id'].unique()\n",
    "#len(docks)\n",
    "units = {}\n",
    "for dock in docks:\n",
    "    test = datamay2015[datamay2015['dock_id']==dock]\n",
    "    unitlen = len(test.groupby(['date','hour_new']).size())\n",
    "    units[dock] = unitlen\n",
    "    \n",
    "units = pd.DataFrame.from_dict(units, orient='index')\n",
    "units = units.reset_index()\n",
    "units.columns = ['dock_id', 'intervals']\n",
    "#units.sort('dock_id', ascending=True)[:10]"
   ]
  },
  {
   "cell_type": "code",
   "execution_count": 24,
   "metadata": {
    "collapsed": false
   },
   "outputs": [
    {
     "name": "stdout",
     "output_type": "stream",
     "text": [
      "327\n",
      "314\n",
      "304\n"
     ]
    }
   ],
   "source": [
    "# Selecting only those station ids within 20% of 744 intervals\n",
    "may2015_docks = units.loc[units['intervals']>int(744-0.20*744),'dock_id'].tolist()\n",
    "\n",
    "# Checking for differences from actual dock_id numbers\n",
    "print(len(datamay2015['dock_id'].unique()))\n",
    "print(len(may2015_docks))\n",
    "\n",
    "# Intersecting with apr2015 station list\n",
    "may2015_docks = intersect(may2015_docks, apr2015_docks)\n",
    "print(len(may2015_docks))"
   ]
  },
  {
   "cell_type": "markdown",
   "metadata": {},
   "source": [
    "#### June 2015"
   ]
  },
  {
   "cell_type": "code",
   "execution_count": 25,
   "metadata": {
    "collapsed": false
   },
   "outputs": [
    {
     "name": "stdout",
     "output_type": "stream",
     "text": [
      "720\n"
     ]
    }
   ],
   "source": [
    "# Computing the number of 1 hour intervals for the month of June 2015\n",
    "ts = pd.Series(pd.date_range('6/1/2015','7/1/2015', freq='60min'))\n",
    "print(len(ts)-1)"
   ]
  },
  {
   "cell_type": "code",
   "execution_count": 26,
   "metadata": {
    "collapsed": false
   },
   "outputs": [
    {
     "name": "stdout",
     "output_type": "stream",
     "text": [
      "(1262290, 14)\n",
      "Index(['dock_id', 'dock_name', 'date', 'hour', 'minute', 'pm', 'avail_bikes',\n",
      "       'avail_docks', 'tot_docks', '_lat', '_long', 'in_service', 'status_key',\n",
      "       'avail_bikes3'],\n",
      "      dtype='object')\n",
      "(1232371, 14)\n"
     ]
    },
    {
     "data": {
      "text/html": [
       "<div>\n",
       "<table border=\"1\" class=\"dataframe\">\n",
       "  <thead>\n",
       "    <tr style=\"text-align: right;\">\n",
       "      <th></th>\n",
       "      <th>dock_id</th>\n",
       "      <th>dock_name</th>\n",
       "      <th>date</th>\n",
       "      <th>hour</th>\n",
       "      <th>minute</th>\n",
       "      <th>pm</th>\n",
       "      <th>avail_bikes</th>\n",
       "      <th>avail_docks</th>\n",
       "      <th>tot_docks</th>\n",
       "      <th>_lat</th>\n",
       "      <th>_long</th>\n",
       "      <th>in_service</th>\n",
       "      <th>status_key</th>\n",
       "    </tr>\n",
       "  </thead>\n",
       "  <tbody>\n",
       "    <tr>\n",
       "      <th>0</th>\n",
       "      <td>116</td>\n",
       "      <td>W 17 St &amp; 8 Ave</td>\n",
       "      <td>15-06-01</td>\n",
       "      <td>1</td>\n",
       "      <td>26</td>\n",
       "      <td>1</td>\n",
       "      <td>8</td>\n",
       "      <td>31</td>\n",
       "      <td>39</td>\n",
       "      <td>40.741776</td>\n",
       "      <td>-74.001497</td>\n",
       "      <td>1</td>\n",
       "      <td>1</td>\n",
       "    </tr>\n",
       "    <tr>\n",
       "      <th>1</th>\n",
       "      <td>116</td>\n",
       "      <td>W 17 St &amp; 8 Ave</td>\n",
       "      <td>15-06-01</td>\n",
       "      <td>2</td>\n",
       "      <td>8</td>\n",
       "      <td>1</td>\n",
       "      <td>14</td>\n",
       "      <td>25</td>\n",
       "      <td>39</td>\n",
       "      <td>40.741776</td>\n",
       "      <td>-74.001497</td>\n",
       "      <td>1</td>\n",
       "      <td>1</td>\n",
       "    </tr>\n",
       "    <tr>\n",
       "      <th>2</th>\n",
       "      <td>116</td>\n",
       "      <td>W 17 St &amp; 8 Ave</td>\n",
       "      <td>15-06-01</td>\n",
       "      <td>7</td>\n",
       "      <td>14</td>\n",
       "      <td>1</td>\n",
       "      <td>5</td>\n",
       "      <td>33</td>\n",
       "      <td>39</td>\n",
       "      <td>40.741776</td>\n",
       "      <td>-74.001497</td>\n",
       "      <td>1</td>\n",
       "      <td>1</td>\n",
       "    </tr>\n",
       "    <tr>\n",
       "      <th>3</th>\n",
       "      <td>116</td>\n",
       "      <td>W 17 St &amp; 8 Ave</td>\n",
       "      <td>15-06-01</td>\n",
       "      <td>7</td>\n",
       "      <td>26</td>\n",
       "      <td>1</td>\n",
       "      <td>4</td>\n",
       "      <td>34</td>\n",
       "      <td>39</td>\n",
       "      <td>40.741776</td>\n",
       "      <td>-74.001497</td>\n",
       "      <td>1</td>\n",
       "      <td>1</td>\n",
       "    </tr>\n",
       "    <tr>\n",
       "      <th>4</th>\n",
       "      <td>116</td>\n",
       "      <td>W 17 St &amp; 8 Ave</td>\n",
       "      <td>15-06-01</td>\n",
       "      <td>7</td>\n",
       "      <td>37</td>\n",
       "      <td>1</td>\n",
       "      <td>3</td>\n",
       "      <td>35</td>\n",
       "      <td>39</td>\n",
       "      <td>40.741776</td>\n",
       "      <td>-74.001497</td>\n",
       "      <td>1</td>\n",
       "      <td>1</td>\n",
       "    </tr>\n",
       "  </tbody>\n",
       "</table>\n",
       "</div>"
      ],
      "text/plain": [
       "   dock_id        dock_name      date  hour  minute  pm  avail_bikes  \\\n",
       "0      116  W 17 St & 8 Ave  15-06-01     1      26   1            8   \n",
       "1      116  W 17 St & 8 Ave  15-06-01     2       8   1           14   \n",
       "2      116  W 17 St & 8 Ave  15-06-01     7      14   1            5   \n",
       "3      116  W 17 St & 8 Ave  15-06-01     7      26   1            4   \n",
       "4      116  W 17 St & 8 Ave  15-06-01     7      37   1            3   \n",
       "\n",
       "   avail_docks  tot_docks       _lat      _long  in_service  status_key  \n",
       "0           31         39  40.741776 -74.001497           1           1  \n",
       "1           25         39  40.741776 -74.001497           1           1  \n",
       "2           33         39  40.741776 -74.001497           1           1  \n",
       "3           34         39  40.741776 -74.001497           1           1  \n",
       "4           35         39  40.741776 -74.001497           1           1  "
      ]
     },
     "execution_count": 26,
     "metadata": {},
     "output_type": "execute_result"
    }
   ],
   "source": [
    "# Loading the data\n",
    "datajun2015 = pd.read_csv('Raw/bikeshare_nyc_raw_062015.csv', sep='\\t')\n",
    "print(datajun2015.shape)\n",
    "print(datajun2015.columns)\n",
    "\n",
    "# {\"1\":\"In Service\",\"2\":\"Planned\",\"3\":\"Not In Service\",\"4\":\"De-registered\"}\n",
    "# Subsetting records only for valid station status key\n",
    "datajun2015 = datajun2015.loc[datajun2015['status_key']==1,:]\n",
    "print(datajun2015.shape)\n",
    "\n",
    "# Dropping extra columns\n",
    "datajun2015 = datajun2015.ix[:, 0:13]\n",
    "\n",
    "# Checking for first few observations\n",
    "datajun2015.head()"
   ]
  },
  {
   "cell_type": "code",
   "execution_count": 27,
   "metadata": {
    "collapsed": false
   },
   "outputs": [
    {
     "name": "stdout",
     "output_type": "stream",
     "text": [
      "30\n",
      "24\n"
     ]
    }
   ],
   "source": [
    "# Checking for unique date levels\n",
    "print(len(datajun2015['date'].unique()))\n",
    "\n",
    "# Given hour column is based on 12 hour interval\n",
    "# Creating new hour column for 24 hour interval\n",
    "datajun2015['hour_new'] = (datajun2015['pm']*12)+datajun2015['hour']-1\n",
    "\n",
    "# Checking for unique hour levels\n",
    "print(len(datajun2015['hour_new'].unique()))\n",
    "\n",
    "# Checking for whether station_ids have required one hour intervals in the data\n",
    "docks = datajun2015['dock_id'].unique()\n",
    "#len(docks)\n",
    "units = {}\n",
    "for dock in docks:\n",
    "    test = datajun2015[datajun2015['dock_id']==dock]\n",
    "    unitlen = len(test.groupby(['date','hour_new']).size())\n",
    "    units[dock] = unitlen\n",
    "    \n",
    "units = pd.DataFrame.from_dict(units, orient='index')\n",
    "units = units.reset_index()\n",
    "units.columns = ['dock_id', 'intervals']\n",
    "#units.sort('dock_id', ascending=True)[:10]"
   ]
  },
  {
   "cell_type": "code",
   "execution_count": 28,
   "metadata": {
    "collapsed": false
   },
   "outputs": [
    {
     "name": "stdout",
     "output_type": "stream",
     "text": [
      "323\n",
      "318\n",
      "303\n"
     ]
    }
   ],
   "source": [
    "# Selecting only those station ids within 20% of 720 intervals\n",
    "jun2015_docks = units.loc[units['intervals']>int(720-0.20*720),'dock_id'].tolist()\n",
    "\n",
    "# Checking for differences from actual dock_id numbers\n",
    "print(len(datajun2015['dock_id'].unique()))\n",
    "print(len(jun2015_docks))\n",
    "\n",
    "# Intersecting with may2015 station list\n",
    "jun2015_docks = intersect(jun2015_docks, may2015_docks)\n",
    "print(len(jun2015_docks))"
   ]
  },
  {
   "cell_type": "markdown",
   "metadata": {},
   "source": [
    "#### July 2015"
   ]
  },
  {
   "cell_type": "code",
   "execution_count": 29,
   "metadata": {
    "collapsed": false
   },
   "outputs": [
    {
     "name": "stdout",
     "output_type": "stream",
     "text": [
      "744\n"
     ]
    }
   ],
   "source": [
    "# Computing the number of 1 hour intervals for the month of July 2015\n",
    "ts = pd.Series(pd.date_range('7/1/2015','8/1/2015', freq='60min'))\n",
    "print(len(ts)-1)"
   ]
  },
  {
   "cell_type": "code",
   "execution_count": 30,
   "metadata": {
    "collapsed": false
   },
   "outputs": [
    {
     "name": "stdout",
     "output_type": "stream",
     "text": [
      "(952788, 13)\n",
      "Index(['dock_id', 'dock_name', 'date', 'hour', 'minute', 'pm', 'avail_bikes',\n",
      "       'avail_docks', 'tot_docks', '_lat', '_long', 'in_service',\n",
      "       'status_key'],\n",
      "      dtype='object')\n",
      "(940588, 13)\n"
     ]
    },
    {
     "data": {
      "text/html": [
       "<div>\n",
       "<table border=\"1\" class=\"dataframe\">\n",
       "  <thead>\n",
       "    <tr style=\"text-align: right;\">\n",
       "      <th></th>\n",
       "      <th>dock_id</th>\n",
       "      <th>dock_name</th>\n",
       "      <th>date</th>\n",
       "      <th>hour</th>\n",
       "      <th>minute</th>\n",
       "      <th>pm</th>\n",
       "      <th>avail_bikes</th>\n",
       "      <th>avail_docks</th>\n",
       "      <th>tot_docks</th>\n",
       "      <th>_lat</th>\n",
       "      <th>_long</th>\n",
       "      <th>in_service</th>\n",
       "      <th>status_key</th>\n",
       "    </tr>\n",
       "  </thead>\n",
       "  <tbody>\n",
       "    <tr>\n",
       "      <th>0</th>\n",
       "      <td>72</td>\n",
       "      <td>W 52 St &amp; 11 Ave</td>\n",
       "      <td>15-07-01</td>\n",
       "      <td>1</td>\n",
       "      <td>11</td>\n",
       "      <td>0</td>\n",
       "      <td>28</td>\n",
       "      <td>9</td>\n",
       "      <td>39</td>\n",
       "      <td>40.767272</td>\n",
       "      <td>-73.99392888</td>\n",
       "      <td>1</td>\n",
       "      <td>1</td>\n",
       "    </tr>\n",
       "    <tr>\n",
       "      <th>1</th>\n",
       "      <td>72</td>\n",
       "      <td>W 52 St &amp; 11 Ave</td>\n",
       "      <td>15-07-01</td>\n",
       "      <td>1</td>\n",
       "      <td>21</td>\n",
       "      <td>0</td>\n",
       "      <td>31</td>\n",
       "      <td>8</td>\n",
       "      <td>39</td>\n",
       "      <td>40.767272</td>\n",
       "      <td>-73.99392888</td>\n",
       "      <td>1</td>\n",
       "      <td>1</td>\n",
       "    </tr>\n",
       "    <tr>\n",
       "      <th>2</th>\n",
       "      <td>72</td>\n",
       "      <td>W 52 St &amp; 11 Ave</td>\n",
       "      <td>15-07-01</td>\n",
       "      <td>1</td>\n",
       "      <td>44</td>\n",
       "      <td>0</td>\n",
       "      <td>31</td>\n",
       "      <td>8</td>\n",
       "      <td>39</td>\n",
       "      <td>40.767272</td>\n",
       "      <td>-73.99392888</td>\n",
       "      <td>1</td>\n",
       "      <td>1</td>\n",
       "    </tr>\n",
       "    <tr>\n",
       "      <th>3</th>\n",
       "      <td>72</td>\n",
       "      <td>W 52 St &amp; 11 Ave</td>\n",
       "      <td>15-07-01</td>\n",
       "      <td>2</td>\n",
       "      <td>16</td>\n",
       "      <td>0</td>\n",
       "      <td>30</td>\n",
       "      <td>9</td>\n",
       "      <td>39</td>\n",
       "      <td>40.767272</td>\n",
       "      <td>-73.99392888</td>\n",
       "      <td>1</td>\n",
       "      <td>1</td>\n",
       "    </tr>\n",
       "    <tr>\n",
       "      <th>4</th>\n",
       "      <td>72</td>\n",
       "      <td>W 52 St &amp; 11 Ave</td>\n",
       "      <td>15-07-01</td>\n",
       "      <td>2</td>\n",
       "      <td>43</td>\n",
       "      <td>0</td>\n",
       "      <td>30</td>\n",
       "      <td>9</td>\n",
       "      <td>39</td>\n",
       "      <td>40.767272</td>\n",
       "      <td>-73.99392888</td>\n",
       "      <td>1</td>\n",
       "      <td>1</td>\n",
       "    </tr>\n",
       "  </tbody>\n",
       "</table>\n",
       "</div>"
      ],
      "text/plain": [
       "   dock_id         dock_name      date  hour  minute  pm  avail_bikes  \\\n",
       "0       72  W 52 St & 11 Ave  15-07-01     1      11   0           28   \n",
       "1       72  W 52 St & 11 Ave  15-07-01     1      21   0           31   \n",
       "2       72  W 52 St & 11 Ave  15-07-01     1      44   0           31   \n",
       "3       72  W 52 St & 11 Ave  15-07-01     2      16   0           30   \n",
       "4       72  W 52 St & 11 Ave  15-07-01     2      43   0           30   \n",
       "\n",
       "   avail_docks  tot_docks       _lat         _long  in_service  status_key  \n",
       "0            9         39  40.767272  -73.99392888           1           1  \n",
       "1            8         39  40.767272  -73.99392888           1           1  \n",
       "2            8         39  40.767272  -73.99392888           1           1  \n",
       "3            9         39  40.767272  -73.99392888           1           1  \n",
       "4            9         39  40.767272  -73.99392888           1           1  "
      ]
     },
     "execution_count": 30,
     "metadata": {},
     "output_type": "execute_result"
    }
   ],
   "source": [
    "# Loading the data\n",
    "datajul2015 = pd.read_csv('Raw/bikeshare_nyc_raw_072015.csv', sep='\\t')\n",
    "print(datajul2015.shape)\n",
    "print(datajul2015.columns)\n",
    "\n",
    "# {\"1\":\"In Service\",\"2\":\"Planned\",\"3\":\"Not In Service\",\"4\":\"De-registered\"}\n",
    "# Subsetting records only for valid station status key\n",
    "datajul2015 = datajul2015.loc[datajul2015['status_key']==1,:]\n",
    "print(datajul2015.shape)\n",
    "\n",
    "# Checking for first few observations\n",
    "datajul2015.head()"
   ]
  },
  {
   "cell_type": "code",
   "execution_count": 31,
   "metadata": {
    "collapsed": false
   },
   "outputs": [
    {
     "name": "stdout",
     "output_type": "stream",
     "text": [
      "30\n",
      "24\n"
     ]
    }
   ],
   "source": [
    "# Checking for unique date levels\n",
    "print(len(datajul2015['date'].unique()))\n",
    "\n",
    "# Given hour column is based on 12 hour interval\n",
    "# Creating new hour column for 24 hour interval\n",
    "datajul2015['hour_new'] = (datajul2015['pm']*12)+datajul2015['hour']-1\n",
    "\n",
    "# Checking for unique hour levels\n",
    "print(len(datajul2015['hour_new'].unique()))\n",
    "\n",
    "# Checking for whether station_ids have required one hour intervals in the data\n",
    "docks = datajul2015['dock_id'].unique()\n",
    "#len(docks)\n",
    "units = {}\n",
    "for dock in docks:\n",
    "    test = datajul2015[datajul2015['dock_id']==dock]\n",
    "    unitlen = len(test.groupby(['date','hour_new']).size())\n",
    "    units[dock] = unitlen\n",
    "    \n",
    "units = pd.DataFrame.from_dict(units, orient='index')\n",
    "units = units.reset_index()\n",
    "units.columns = ['dock_id', 'intervals']\n",
    "#units.sort('dock_id', ascending=True)[:10]"
   ]
  },
  {
   "cell_type": "code",
   "execution_count": 32,
   "metadata": {
    "collapsed": false
   },
   "outputs": [
    {
     "name": "stdout",
     "output_type": "stream",
     "text": [
      "329\n",
      "320\n",
      "297\n"
     ]
    }
   ],
   "source": [
    "# Selecting only those station ids within 20% of 744 intervals\n",
    "jul2015_docks = units.loc[units['intervals']>int(744-0.20*744),'dock_id'].tolist()\n",
    "\n",
    "# Checking for differences from actual dock_id numbers\n",
    "print(len(datajul2015['dock_id'].unique()))\n",
    "print(len(jul2015_docks))\n",
    "\n",
    "# Intersecting with jun2015 station list\n",
    "jul2015_docks = intersect(jul2015_docks, jun2015_docks)\n",
    "print(len(jul2015_docks))"
   ]
  },
  {
   "cell_type": "markdown",
   "metadata": {},
   "source": [
    "#### August 2015"
   ]
  },
  {
   "cell_type": "code",
   "execution_count": 33,
   "metadata": {
    "collapsed": false
   },
   "outputs": [
    {
     "name": "stdout",
     "output_type": "stream",
     "text": [
      "744\n"
     ]
    }
   ],
   "source": [
    "# Computing the number of 1 hour intervals for the month of August 2015\n",
    "ts = pd.Series(pd.date_range('8/1/2015','9/1/2015', freq='60min'))\n",
    "print(len(ts)-1)"
   ]
  },
  {
   "cell_type": "code",
   "execution_count": 34,
   "metadata": {
    "collapsed": false
   },
   "outputs": [
    {
     "name": "stdout",
     "output_type": "stream",
     "text": [
      "(1087893, 14)\n",
      "Index(['dock_id', 'dock_name', 'date', 'hour', 'minute', 'pm', 'avail_bikes',\n",
      "       'avail_docks', 'tot_docks', '_lat', '_long', 'in_service', 'status_key',\n",
      "       'dock_name6'],\n",
      "      dtype='object')\n",
      "(781447, 14)\n"
     ]
    },
    {
     "data": {
      "text/html": [
       "<div>\n",
       "<table border=\"1\" class=\"dataframe\">\n",
       "  <thead>\n",
       "    <tr style=\"text-align: right;\">\n",
       "      <th></th>\n",
       "      <th>dock_id</th>\n",
       "      <th>dock_name</th>\n",
       "      <th>date</th>\n",
       "      <th>hour</th>\n",
       "      <th>minute</th>\n",
       "      <th>pm</th>\n",
       "      <th>avail_bikes</th>\n",
       "      <th>avail_docks</th>\n",
       "      <th>tot_docks</th>\n",
       "      <th>_lat</th>\n",
       "      <th>_long</th>\n",
       "      <th>in_service</th>\n",
       "      <th>status_key</th>\n",
       "    </tr>\n",
       "  </thead>\n",
       "  <tbody>\n",
       "    <tr>\n",
       "      <th>0</th>\n",
       "      <td>72</td>\n",
       "      <td>W 52 St &amp; 11 Ave</td>\n",
       "      <td>15-08-01</td>\n",
       "      <td>1</td>\n",
       "      <td>0</td>\n",
       "      <td>0</td>\n",
       "      <td>25</td>\n",
       "      <td>11</td>\n",
       "      <td>39</td>\n",
       "      <td>40.767272</td>\n",
       "      <td>-73.993929</td>\n",
       "      <td>1</td>\n",
       "      <td>1</td>\n",
       "    </tr>\n",
       "    <tr>\n",
       "      <th>1</th>\n",
       "      <td>72</td>\n",
       "      <td>W 52 St &amp; 11 Ave</td>\n",
       "      <td>15-08-01</td>\n",
       "      <td>1</td>\n",
       "      <td>21</td>\n",
       "      <td>0</td>\n",
       "      <td>24</td>\n",
       "      <td>12</td>\n",
       "      <td>39</td>\n",
       "      <td>40.767272</td>\n",
       "      <td>-73.993929</td>\n",
       "      <td>1</td>\n",
       "      <td>1</td>\n",
       "    </tr>\n",
       "    <tr>\n",
       "      <th>2</th>\n",
       "      <td>72</td>\n",
       "      <td>W 52 St &amp; 11 Ave</td>\n",
       "      <td>15-08-01</td>\n",
       "      <td>1</td>\n",
       "      <td>44</td>\n",
       "      <td>0</td>\n",
       "      <td>25</td>\n",
       "      <td>11</td>\n",
       "      <td>39</td>\n",
       "      <td>40.767272</td>\n",
       "      <td>-73.993929</td>\n",
       "      <td>1</td>\n",
       "      <td>1</td>\n",
       "    </tr>\n",
       "    <tr>\n",
       "      <th>3</th>\n",
       "      <td>72</td>\n",
       "      <td>W 52 St &amp; 11 Ave</td>\n",
       "      <td>15-08-01</td>\n",
       "      <td>2</td>\n",
       "      <td>37</td>\n",
       "      <td>0</td>\n",
       "      <td>25</td>\n",
       "      <td>11</td>\n",
       "      <td>39</td>\n",
       "      <td>40.767272</td>\n",
       "      <td>-73.993929</td>\n",
       "      <td>1</td>\n",
       "      <td>1</td>\n",
       "    </tr>\n",
       "    <tr>\n",
       "      <th>4</th>\n",
       "      <td>72</td>\n",
       "      <td>W 52 St &amp; 11 Ave</td>\n",
       "      <td>15-08-01</td>\n",
       "      <td>3</td>\n",
       "      <td>3</td>\n",
       "      <td>0</td>\n",
       "      <td>25</td>\n",
       "      <td>11</td>\n",
       "      <td>39</td>\n",
       "      <td>40.767272</td>\n",
       "      <td>-73.993929</td>\n",
       "      <td>1</td>\n",
       "      <td>1</td>\n",
       "    </tr>\n",
       "  </tbody>\n",
       "</table>\n",
       "</div>"
      ],
      "text/plain": [
       "   dock_id         dock_name      date  hour  minute  pm  avail_bikes  \\\n",
       "0       72  W 52 St & 11 Ave  15-08-01     1       0   0           25   \n",
       "1       72  W 52 St & 11 Ave  15-08-01     1      21   0           24   \n",
       "2       72  W 52 St & 11 Ave  15-08-01     1      44   0           25   \n",
       "3       72  W 52 St & 11 Ave  15-08-01     2      37   0           25   \n",
       "4       72  W 52 St & 11 Ave  15-08-01     3       3   0           25   \n",
       "\n",
       "   avail_docks  tot_docks       _lat      _long  in_service  status_key  \n",
       "0           11         39  40.767272 -73.993929           1           1  \n",
       "1           12         39  40.767272 -73.993929           1           1  \n",
       "2           11         39  40.767272 -73.993929           1           1  \n",
       "3           11         39  40.767272 -73.993929           1           1  \n",
       "4           11         39  40.767272 -73.993929           1           1  "
      ]
     },
     "execution_count": 34,
     "metadata": {},
     "output_type": "execute_result"
    }
   ],
   "source": [
    "# Loading the data\n",
    "dataaug2015 = pd.read_csv('Raw/bikeshare_nyc_raw_082015.csv', sep='\\t')\n",
    "print(dataaug2015.shape)\n",
    "print(dataaug2015.columns)\n",
    "\n",
    "# {\"1\":\"In Service\",\"2\":\"Planned\",\"3\":\"Not In Service\",\"4\":\"De-registered\"}\n",
    "# Subsetting records only for valid station status key\n",
    "dataaug2015 = dataaug2015.loc[dataaug2015['status_key']==1,:]\n",
    "print(dataaug2015.shape)\n",
    "\n",
    "# Dropping extra columns\n",
    "dataaug2015 = dataaug2015.ix[:, 0:13]\n",
    "\n",
    "# Checking for first few observations\n",
    "dataaug2015.head()"
   ]
  },
  {
   "cell_type": "code",
   "execution_count": 35,
   "metadata": {
    "collapsed": false
   },
   "outputs": [
    {
     "name": "stdout",
     "output_type": "stream",
     "text": [
      "28\n",
      "24\n"
     ]
    }
   ],
   "source": [
    "# Checking for unique date levels\n",
    "print(len(dataaug2015['date'].unique()))\n",
    "\n",
    "# Given hour column is based on 12 hour interval\n",
    "# Creating new hour column for 24 hour interval\n",
    "dataaug2015['hour_new'] = (dataaug2015['pm']*12)+dataaug2015['hour']-1\n",
    "\n",
    "# Checking for unique hour levels\n",
    "print(len(dataaug2015['hour_new'].unique()))\n",
    "\n",
    "# Checking for whether station_ids have required one hour intervals in the data\n",
    "docks = dataaug2015['dock_id'].unique()\n",
    "#len(docks)\n",
    "units = {}\n",
    "for dock in docks:\n",
    "    test = dataaug2015[dataaug2015['dock_id']==dock]\n",
    "    unitlen = len(test.groupby(['date','hour_new']).size())\n",
    "    units[dock] = unitlen\n",
    "    \n",
    "units = pd.DataFrame.from_dict(units, orient='index')\n",
    "units = units.reset_index()\n",
    "units.columns = ['dock_id', 'intervals']\n",
    "#units.sort('dock_id', ascending=True)[:10]"
   ]
  },
  {
   "cell_type": "code",
   "execution_count": 36,
   "metadata": {
    "collapsed": false
   },
   "outputs": [
    {
     "name": "stdout",
     "output_type": "stream",
     "text": [
      "418\n",
      "315\n",
      "287\n"
     ]
    }
   ],
   "source": [
    "# Selecting only those station ids within 20% of 744 intervals\n",
    "aug2015_docks = units.loc[units['intervals']>int(744-0.20*744),'dock_id'].tolist()\n",
    "\n",
    "# Checking for differences from actual dock_id numbers\n",
    "print(len(dataaug2015['dock_id'].unique()))\n",
    "print(len(aug2015_docks))\n",
    "\n",
    "# Intersecting with jul2015 station list\n",
    "aug2015_docks = intersect(aug2015_docks, jul2015_docks)\n",
    "print(len(aug2015_docks))"
   ]
  },
  {
   "cell_type": "markdown",
   "metadata": {},
   "source": [
    "#### September 2015"
   ]
  },
  {
   "cell_type": "code",
   "execution_count": 37,
   "metadata": {
    "collapsed": false
   },
   "outputs": [
    {
     "name": "stdout",
     "output_type": "stream",
     "text": [
      "720\n"
     ]
    }
   ],
   "source": [
    "# Computing the number of 1 hour intervals for the month of September 2015\n",
    "ts = pd.Series(pd.date_range('9/1/2015','10/1/2015', freq='60min'))\n",
    "print(len(ts)-1)"
   ]
  },
  {
   "cell_type": "code",
   "execution_count": 38,
   "metadata": {
    "collapsed": false
   },
   "outputs": [
    {
     "name": "stdout",
     "output_type": "stream",
     "text": [
      "(1146022, 14)\n",
      "Index(['dock_id', 'dock_name', 'date', 'hour', 'minute', 'pm', 'avail_bikes',\n",
      "       'avail_docks', 'tot_docks', '_lat', '_long', 'in_service', 'status_key',\n",
      "       'dock_name6'],\n",
      "      dtype='object')\n",
      "(991497, 14)\n"
     ]
    },
    {
     "data": {
      "text/html": [
       "<div>\n",
       "<table border=\"1\" class=\"dataframe\">\n",
       "  <thead>\n",
       "    <tr style=\"text-align: right;\">\n",
       "      <th></th>\n",
       "      <th>dock_id</th>\n",
       "      <th>dock_name</th>\n",
       "      <th>date</th>\n",
       "      <th>hour</th>\n",
       "      <th>minute</th>\n",
       "      <th>pm</th>\n",
       "      <th>avail_bikes</th>\n",
       "      <th>avail_docks</th>\n",
       "      <th>tot_docks</th>\n",
       "      <th>_lat</th>\n",
       "      <th>_long</th>\n",
       "      <th>in_service</th>\n",
       "      <th>status_key</th>\n",
       "    </tr>\n",
       "  </thead>\n",
       "  <tbody>\n",
       "    <tr>\n",
       "      <th>0</th>\n",
       "      <td>72</td>\n",
       "      <td>W 52 St &amp; 11 Ave</td>\n",
       "      <td>15-09-01</td>\n",
       "      <td>1</td>\n",
       "      <td>4</td>\n",
       "      <td>0</td>\n",
       "      <td>22</td>\n",
       "      <td>13</td>\n",
       "      <td>39</td>\n",
       "      <td>40.767272</td>\n",
       "      <td>-73.993929</td>\n",
       "      <td>1</td>\n",
       "      <td>1</td>\n",
       "    </tr>\n",
       "    <tr>\n",
       "      <th>1</th>\n",
       "      <td>72</td>\n",
       "      <td>W 52 St &amp; 11 Ave</td>\n",
       "      <td>15-09-01</td>\n",
       "      <td>1</td>\n",
       "      <td>22</td>\n",
       "      <td>0</td>\n",
       "      <td>22</td>\n",
       "      <td>13</td>\n",
       "      <td>39</td>\n",
       "      <td>40.767272</td>\n",
       "      <td>-73.993929</td>\n",
       "      <td>1</td>\n",
       "      <td>1</td>\n",
       "    </tr>\n",
       "    <tr>\n",
       "      <th>2</th>\n",
       "      <td>72</td>\n",
       "      <td>W 52 St &amp; 11 Ave</td>\n",
       "      <td>15-09-01</td>\n",
       "      <td>1</td>\n",
       "      <td>39</td>\n",
       "      <td>0</td>\n",
       "      <td>22</td>\n",
       "      <td>13</td>\n",
       "      <td>39</td>\n",
       "      <td>40.767272</td>\n",
       "      <td>-73.993929</td>\n",
       "      <td>1</td>\n",
       "      <td>1</td>\n",
       "    </tr>\n",
       "    <tr>\n",
       "      <th>3</th>\n",
       "      <td>72</td>\n",
       "      <td>W 52 St &amp; 11 Ave</td>\n",
       "      <td>15-09-01</td>\n",
       "      <td>2</td>\n",
       "      <td>1</td>\n",
       "      <td>0</td>\n",
       "      <td>22</td>\n",
       "      <td>13</td>\n",
       "      <td>39</td>\n",
       "      <td>40.767272</td>\n",
       "      <td>-73.993929</td>\n",
       "      <td>1</td>\n",
       "      <td>1</td>\n",
       "    </tr>\n",
       "    <tr>\n",
       "      <th>4</th>\n",
       "      <td>72</td>\n",
       "      <td>W 52 St &amp; 11 Ave</td>\n",
       "      <td>15-09-01</td>\n",
       "      <td>2</td>\n",
       "      <td>17</td>\n",
       "      <td>0</td>\n",
       "      <td>22</td>\n",
       "      <td>13</td>\n",
       "      <td>39</td>\n",
       "      <td>40.767272</td>\n",
       "      <td>-73.993929</td>\n",
       "      <td>1</td>\n",
       "      <td>1</td>\n",
       "    </tr>\n",
       "  </tbody>\n",
       "</table>\n",
       "</div>"
      ],
      "text/plain": [
       "   dock_id         dock_name      date  hour  minute  pm  avail_bikes  \\\n",
       "0       72  W 52 St & 11 Ave  15-09-01     1       4   0           22   \n",
       "1       72  W 52 St & 11 Ave  15-09-01     1      22   0           22   \n",
       "2       72  W 52 St & 11 Ave  15-09-01     1      39   0           22   \n",
       "3       72  W 52 St & 11 Ave  15-09-01     2       1   0           22   \n",
       "4       72  W 52 St & 11 Ave  15-09-01     2      17   0           22   \n",
       "\n",
       "   avail_docks  tot_docks       _lat      _long  in_service  status_key  \n",
       "0           13         39  40.767272 -73.993929           1           1  \n",
       "1           13         39  40.767272 -73.993929           1           1  \n",
       "2           13         39  40.767272 -73.993929           1           1  \n",
       "3           13         39  40.767272 -73.993929           1           1  \n",
       "4           13         39  40.767272 -73.993929           1           1  "
      ]
     },
     "execution_count": 38,
     "metadata": {},
     "output_type": "execute_result"
    }
   ],
   "source": [
    "# Loading the data\n",
    "datasep2015 = pd.read_csv('Raw/bikeshare_nyc_raw_092015.csv', sep='\\t')\n",
    "print(datasep2015.shape)\n",
    "print(datasep2015.columns)\n",
    "\n",
    "# {\"1\":\"In Service\",\"2\":\"Planned\",\"3\":\"Not In Service\",\"4\":\"De-registered\"}\n",
    "# Subsetting records only for valid station status key\n",
    "datasep2015 = datasep2015.loc[datasep2015['status_key']==1,:]\n",
    "print(datasep2015.shape)\n",
    "\n",
    "# Dropping extra columns\n",
    "datasep2015 = datasep2015.ix[:, 0:13]\n",
    "\n",
    "# Checking for first few observations\n",
    "datasep2015.head()"
   ]
  },
  {
   "cell_type": "code",
   "execution_count": 39,
   "metadata": {
    "collapsed": false
   },
   "outputs": [
    {
     "name": "stdout",
     "output_type": "stream",
     "text": [
      "30\n",
      "24\n"
     ]
    }
   ],
   "source": [
    "# Checking for unique date levels\n",
    "print(len(datasep2015['date'].unique()))\n",
    "\n",
    "# Given hour column is based on 12 hour interval\n",
    "# Creating new hour column for 24 hour interval\n",
    "datasep2015['hour_new'] = (datasep2015['pm']*12)+datasep2015['hour']-1\n",
    "\n",
    "# Checking for unique hour levels\n",
    "print(len(datasep2015['hour_new'].unique()))\n",
    "\n",
    "# Checking for whether station_ids have required one hour intervals in the data\n",
    "docks = datasep2015['dock_id'].unique()\n",
    "#len(docks)\n",
    "units = {}\n",
    "for dock in docks:\n",
    "    test = datasep2015[datasep2015['dock_id']==dock]\n",
    "    unitlen = len(test.groupby(['date','hour_new']).size())\n",
    "    units[dock] = unitlen\n",
    "    \n",
    "units = pd.DataFrame.from_dict(units, orient='index')\n",
    "units = units.reset_index()\n",
    "units.columns = ['dock_id', 'intervals']\n",
    "#units.sort('dock_id', ascending=True)[:10]"
   ]
  },
  {
   "cell_type": "code",
   "execution_count": 40,
   "metadata": {
    "collapsed": false
   },
   "outputs": [
    {
     "name": "stdout",
     "output_type": "stream",
     "text": [
      "488\n",
      "398\n",
      "277\n"
     ]
    }
   ],
   "source": [
    "# Selecting only those station ids within 20% of 720 intervals\n",
    "sep2015_docks = units.loc[units['intervals']>int(720-0.20*720),'dock_id'].tolist()\n",
    "\n",
    "# Checking for differences from actual dock_id numbers\n",
    "print(len(datasep2015['dock_id'].unique()))\n",
    "print(len(sep2015_docks))\n",
    "\n",
    "# Intersecting with aug2015 station list\n",
    "sep2015_docks = intersect(sep2015_docks, aug2015_docks)\n",
    "print(len(sep2015_docks))"
   ]
  },
  {
   "cell_type": "markdown",
   "metadata": {},
   "source": [
    "#### October 2015"
   ]
  },
  {
   "cell_type": "code",
   "execution_count": 41,
   "metadata": {
    "collapsed": false
   },
   "outputs": [
    {
     "name": "stdout",
     "output_type": "stream",
     "text": [
      "744\n"
     ]
    }
   ],
   "source": [
    "# Computing the number of 1 hour intervals for the month of October 2015\n",
    "ts = pd.Series(pd.date_range('10/1/2015','11/1/2015', freq='60min'))\n",
    "print(len(ts)-1)"
   ]
  },
  {
   "cell_type": "code",
   "execution_count": 42,
   "metadata": {
    "collapsed": false
   },
   "outputs": [
    {
     "name": "stdout",
     "output_type": "stream",
     "text": [
      "(1407804, 15)\n",
      "Index(['dock_id', 'dock_name', 'date', 'hour', 'minute', 'pm', 'avail_bikes',\n",
      "       'avail_docks', 'tot_docks', '_lat', '_long', 'in_service', 'status_key',\n",
      "       'dock_name6', 'avail_bikes3'],\n",
      "      dtype='object')\n",
      "(1333796, 15)\n"
     ]
    },
    {
     "data": {
      "text/html": [
       "<div>\n",
       "<table border=\"1\" class=\"dataframe\">\n",
       "  <thead>\n",
       "    <tr style=\"text-align: right;\">\n",
       "      <th></th>\n",
       "      <th>dock_id</th>\n",
       "      <th>dock_name</th>\n",
       "      <th>date</th>\n",
       "      <th>hour</th>\n",
       "      <th>minute</th>\n",
       "      <th>pm</th>\n",
       "      <th>avail_bikes</th>\n",
       "      <th>avail_docks</th>\n",
       "      <th>tot_docks</th>\n",
       "      <th>_lat</th>\n",
       "      <th>_long</th>\n",
       "      <th>in_service</th>\n",
       "      <th>status_key</th>\n",
       "    </tr>\n",
       "  </thead>\n",
       "  <tbody>\n",
       "    <tr>\n",
       "      <th>0</th>\n",
       "      <td>72</td>\n",
       "      <td>W 52 St &amp; 11 Ave</td>\n",
       "      <td>15-10-01</td>\n",
       "      <td>1</td>\n",
       "      <td>30</td>\n",
       "      <td>0</td>\n",
       "      <td>15</td>\n",
       "      <td>24</td>\n",
       "      <td>39</td>\n",
       "      <td>40.767272</td>\n",
       "      <td>-73.993929</td>\n",
       "      <td>1</td>\n",
       "      <td>1</td>\n",
       "    </tr>\n",
       "    <tr>\n",
       "      <th>1</th>\n",
       "      <td>72</td>\n",
       "      <td>W 52 St &amp; 11 Ave</td>\n",
       "      <td>15-10-01</td>\n",
       "      <td>2</td>\n",
       "      <td>30</td>\n",
       "      <td>0</td>\n",
       "      <td>16</td>\n",
       "      <td>23</td>\n",
       "      <td>39</td>\n",
       "      <td>40.767272</td>\n",
       "      <td>-73.993929</td>\n",
       "      <td>1</td>\n",
       "      <td>1</td>\n",
       "    </tr>\n",
       "    <tr>\n",
       "      <th>2</th>\n",
       "      <td>72</td>\n",
       "      <td>W 52 St &amp; 11 Ave</td>\n",
       "      <td>15-10-01</td>\n",
       "      <td>2</td>\n",
       "      <td>42</td>\n",
       "      <td>0</td>\n",
       "      <td>16</td>\n",
       "      <td>23</td>\n",
       "      <td>39</td>\n",
       "      <td>40.767272</td>\n",
       "      <td>-73.993929</td>\n",
       "      <td>1</td>\n",
       "      <td>1</td>\n",
       "    </tr>\n",
       "    <tr>\n",
       "      <th>3</th>\n",
       "      <td>72</td>\n",
       "      <td>W 52 St &amp; 11 Ave</td>\n",
       "      <td>15-10-01</td>\n",
       "      <td>3</td>\n",
       "      <td>14</td>\n",
       "      <td>0</td>\n",
       "      <td>16</td>\n",
       "      <td>23</td>\n",
       "      <td>39</td>\n",
       "      <td>40.767272</td>\n",
       "      <td>-73.993929</td>\n",
       "      <td>1</td>\n",
       "      <td>1</td>\n",
       "    </tr>\n",
       "    <tr>\n",
       "      <th>4</th>\n",
       "      <td>72</td>\n",
       "      <td>W 52 St &amp; 11 Ave</td>\n",
       "      <td>15-10-01</td>\n",
       "      <td>3</td>\n",
       "      <td>20</td>\n",
       "      <td>0</td>\n",
       "      <td>16</td>\n",
       "      <td>23</td>\n",
       "      <td>39</td>\n",
       "      <td>40.767272</td>\n",
       "      <td>-73.993929</td>\n",
       "      <td>1</td>\n",
       "      <td>1</td>\n",
       "    </tr>\n",
       "  </tbody>\n",
       "</table>\n",
       "</div>"
      ],
      "text/plain": [
       "   dock_id         dock_name      date  hour  minute  pm avail_bikes  \\\n",
       "0       72  W 52 St & 11 Ave  15-10-01     1      30   0          15   \n",
       "1       72  W 52 St & 11 Ave  15-10-01     2      30   0          16   \n",
       "2       72  W 52 St & 11 Ave  15-10-01     2      42   0          16   \n",
       "3       72  W 52 St & 11 Ave  15-10-01     3      14   0          16   \n",
       "4       72  W 52 St & 11 Ave  15-10-01     3      20   0          16   \n",
       "\n",
       "   avail_docks  tot_docks       _lat      _long  in_service  status_key  \n",
       "0           24         39  40.767272 -73.993929           1           1  \n",
       "1           23         39  40.767272 -73.993929           1           1  \n",
       "2           23         39  40.767272 -73.993929           1           1  \n",
       "3           23         39  40.767272 -73.993929           1           1  \n",
       "4           23         39  40.767272 -73.993929           1           1  "
      ]
     },
     "execution_count": 42,
     "metadata": {},
     "output_type": "execute_result"
    }
   ],
   "source": [
    "# Loading the data\n",
    "dataoct2015 = pd.read_csv('Raw/bikeshare_nyc_raw_102015.csv', sep='\\t')\n",
    "print(dataoct2015.shape)\n",
    "print(dataoct2015.columns)\n",
    "\n",
    "# {\"1\":\"In Service\",\"2\":\"Planned\",\"3\":\"Not In Service\",\"4\":\"De-registered\"}\n",
    "# Subsetting records only for valid station status key\n",
    "dataoct2015 = dataoct2015.loc[dataoct2015['status_key']==1,:]\n",
    "print(dataoct2015.shape)\n",
    "\n",
    "# Dropping extra columns\n",
    "dataoct2015 = dataoct2015.ix[:, 0:13]\n",
    "\n",
    "# Checking for first few observations\n",
    "dataoct2015.head()"
   ]
  },
  {
   "cell_type": "code",
   "execution_count": 43,
   "metadata": {
    "collapsed": false
   },
   "outputs": [
    {
     "name": "stdout",
     "output_type": "stream",
     "text": [
      "29\n",
      "24\n"
     ]
    }
   ],
   "source": [
    "# Checking for unique date levels\n",
    "print(len(dataoct2015['date'].unique()))\n",
    "\n",
    "# Given hour column is based on 12 hour interval\n",
    "# Creating new hour column for 24 hour interval\n",
    "dataoct2015['hour_new'] = (dataoct2015['pm']*12)+dataoct2015['hour']-1\n",
    "\n",
    "# Checking for unique hour levels\n",
    "print(len(dataoct2015['hour_new'].unique()))\n",
    "\n",
    "# Checking for whether station_ids have required one hour intervals in the data\n",
    "docks = dataoct2015['dock_id'].unique()\n",
    "#len(docks)\n",
    "units = {}\n",
    "for dock in docks:\n",
    "    test = dataoct2015[dataoct2015['dock_id']==dock]\n",
    "    unitlen = len(test.groupby(['date','hour_new']).size())\n",
    "    units[dock] = unitlen\n",
    "    \n",
    "units = pd.DataFrame.from_dict(units, orient='index')\n",
    "units = units.reset_index()\n",
    "units.columns = ['dock_id', 'intervals']\n",
    "#units.sort('dock_id', ascending=True)[:10]"
   ]
  },
  {
   "cell_type": "code",
   "execution_count": 44,
   "metadata": {
    "collapsed": false
   },
   "outputs": [
    {
     "name": "stdout",
     "output_type": "stream",
     "text": [
      "497\n",
      "451\n",
      "254\n"
     ]
    }
   ],
   "source": [
    "# Selecting only those station ids within 20% of 744 intervals\n",
    "oct2015_docks = units.loc[units['intervals']>int(744-0.20*744),'dock_id'].tolist()\n",
    "\n",
    "# Checking for differences from actual dock_id numbers\n",
    "print(len(dataoct2015['dock_id'].unique()))\n",
    "print(len(oct2015_docks))\n",
    "\n",
    "# Intersecting with sep2015 station list\n",
    "oct2015_docks = intersect(oct2015_docks, sep2015_docks)\n",
    "print(len(oct2015_docks))"
   ]
  },
  {
   "cell_type": "markdown",
   "metadata": {},
   "source": [
    "#### November 2015"
   ]
  },
  {
   "cell_type": "code",
   "execution_count": 45,
   "metadata": {
    "collapsed": false
   },
   "outputs": [
    {
     "name": "stdout",
     "output_type": "stream",
     "text": [
      "720\n"
     ]
    }
   ],
   "source": [
    "# Computing the number of 1 hour intervals for the month of November 2015\n",
    "ts = pd.Series(pd.date_range('11/1/2015','12/1/2015', freq='60min'))\n",
    "print(len(ts)-1)"
   ]
  },
  {
   "cell_type": "code",
   "execution_count": 46,
   "metadata": {
    "collapsed": false
   },
   "outputs": [
    {
     "name": "stdout",
     "output_type": "stream",
     "text": [
      "(1511309, 16)\n",
      "Index(['dock_id', 'dock_name', 'date', 'hour', 'minute', 'pm', 'avail_bikes',\n",
      "       'avail_docks', 'tot_docks', '_lat', '_long', 'in_service', 'status_key',\n",
      "       'dock_name6', 'dock_name7', 'lat3'],\n",
      "      dtype='object')\n",
      "(1460332, 16)\n"
     ]
    },
    {
     "data": {
      "text/html": [
       "<div>\n",
       "<table border=\"1\" class=\"dataframe\">\n",
       "  <thead>\n",
       "    <tr style=\"text-align: right;\">\n",
       "      <th></th>\n",
       "      <th>dock_id</th>\n",
       "      <th>dock_name</th>\n",
       "      <th>date</th>\n",
       "      <th>hour</th>\n",
       "      <th>minute</th>\n",
       "      <th>pm</th>\n",
       "      <th>avail_bikes</th>\n",
       "      <th>avail_docks</th>\n",
       "      <th>tot_docks</th>\n",
       "      <th>_lat</th>\n",
       "      <th>_long</th>\n",
       "      <th>in_service</th>\n",
       "      <th>status_key</th>\n",
       "    </tr>\n",
       "  </thead>\n",
       "  <tbody>\n",
       "    <tr>\n",
       "      <th>0</th>\n",
       "      <td>72</td>\n",
       "      <td>W 52 St &amp; 11 Ave</td>\n",
       "      <td>15-11-01</td>\n",
       "      <td>1</td>\n",
       "      <td>0</td>\n",
       "      <td>0</td>\n",
       "      <td>23</td>\n",
       "      <td>16</td>\n",
       "      <td>39</td>\n",
       "      <td>40.767272</td>\n",
       "      <td>-73.99393</td>\n",
       "      <td>1</td>\n",
       "      <td>1</td>\n",
       "    </tr>\n",
       "    <tr>\n",
       "      <th>1</th>\n",
       "      <td>72</td>\n",
       "      <td>W 52 St &amp; 11 Ave</td>\n",
       "      <td>15-11-01</td>\n",
       "      <td>1</td>\n",
       "      <td>1</td>\n",
       "      <td>0</td>\n",
       "      <td>23</td>\n",
       "      <td>16</td>\n",
       "      <td>39</td>\n",
       "      <td>40.767272</td>\n",
       "      <td>-73.99393</td>\n",
       "      <td>1</td>\n",
       "      <td>1</td>\n",
       "    </tr>\n",
       "    <tr>\n",
       "      <th>2</th>\n",
       "      <td>72</td>\n",
       "      <td>W 52 St &amp; 11 Ave</td>\n",
       "      <td>15-11-01</td>\n",
       "      <td>1</td>\n",
       "      <td>13</td>\n",
       "      <td>0</td>\n",
       "      <td>24</td>\n",
       "      <td>15</td>\n",
       "      <td>39</td>\n",
       "      <td>40.767272</td>\n",
       "      <td>-73.99393</td>\n",
       "      <td>1</td>\n",
       "      <td>1</td>\n",
       "    </tr>\n",
       "    <tr>\n",
       "      <th>3</th>\n",
       "      <td>72</td>\n",
       "      <td>W 52 St &amp; 11 Ave</td>\n",
       "      <td>15-11-01</td>\n",
       "      <td>1</td>\n",
       "      <td>13</td>\n",
       "      <td>0</td>\n",
       "      <td>23</td>\n",
       "      <td>16</td>\n",
       "      <td>39</td>\n",
       "      <td>40.767272</td>\n",
       "      <td>-73.99393</td>\n",
       "      <td>1</td>\n",
       "      <td>1</td>\n",
       "    </tr>\n",
       "    <tr>\n",
       "      <th>4</th>\n",
       "      <td>72</td>\n",
       "      <td>W 52 St &amp; 11 Ave</td>\n",
       "      <td>15-11-01</td>\n",
       "      <td>1</td>\n",
       "      <td>25</td>\n",
       "      <td>0</td>\n",
       "      <td>24</td>\n",
       "      <td>15</td>\n",
       "      <td>39</td>\n",
       "      <td>40.767272</td>\n",
       "      <td>-73.99393</td>\n",
       "      <td>1</td>\n",
       "      <td>1</td>\n",
       "    </tr>\n",
       "  </tbody>\n",
       "</table>\n",
       "</div>"
      ],
      "text/plain": [
       "   dock_id         dock_name      date  hour  minute  pm avail_bikes  \\\n",
       "0       72  W 52 St & 11 Ave  15-11-01     1       0   0          23   \n",
       "1       72  W 52 St & 11 Ave  15-11-01     1       1   0          23   \n",
       "2       72  W 52 St & 11 Ave  15-11-01     1      13   0          24   \n",
       "3       72  W 52 St & 11 Ave  15-11-01     1      13   0          23   \n",
       "4       72  W 52 St & 11 Ave  15-11-01     1      25   0          24   \n",
       "\n",
       "   avail_docks  tot_docks       _lat     _long  in_service  status_key  \n",
       "0           16         39  40.767272 -73.99393           1           1  \n",
       "1           16         39  40.767272 -73.99393           1           1  \n",
       "2           15         39  40.767272 -73.99393           1           1  \n",
       "3           16         39  40.767272 -73.99393           1           1  \n",
       "4           15         39  40.767272 -73.99393           1           1  "
      ]
     },
     "execution_count": 46,
     "metadata": {},
     "output_type": "execute_result"
    }
   ],
   "source": [
    "# Loading the data\n",
    "datanov2015 = pd.read_csv('Raw/bikeshare_nyc_raw_112015.csv', sep='\\t')\n",
    "print(datanov2015.shape)\n",
    "print(datanov2015.columns)\n",
    "\n",
    "# {\"1\":\"In Service\",\"2\":\"Planned\",\"3\":\"Not In Service\",\"4\":\"De-registered\"}\n",
    "# Subsetting records only for valid station status key\n",
    "datanov2015 = datanov2015.loc[datanov2015['status_key']==1,:]\n",
    "print(datanov2015.shape)\n",
    "\n",
    "# Dropping extra columns\n",
    "datanov2015 = datanov2015.ix[:, 0:13]\n",
    "\n",
    "# Checking for first few observations\n",
    "datanov2015.head()"
   ]
  },
  {
   "cell_type": "code",
   "execution_count": 47,
   "metadata": {
    "collapsed": false
   },
   "outputs": [
    {
     "name": "stdout",
     "output_type": "stream",
     "text": [
      "30\n",
      "24\n"
     ]
    }
   ],
   "source": [
    "# Checking for unique date levels\n",
    "print(len(datanov2015['date'].unique()))\n",
    "\n",
    "# Given hour column is based on 12 hour interval\n",
    "# Creating new hour column for 24 hour interval\n",
    "datanov2015['hour_new'] = (datanov2015['pm']*12)+datanov2015['hour']-1\n",
    "\n",
    "# Checking for unique hour levels\n",
    "print(len(datanov2015['hour_new'].unique()))\n",
    "\n",
    "# Checking for whether station_ids have required one hour intervals in the data\n",
    "docks = datanov2015['dock_id'].unique()\n",
    "#len(docks)\n",
    "units = {}\n",
    "for dock in docks:\n",
    "    test = datanov2015[datanov2015['dock_id']==dock]\n",
    "    unitlen = len(test.groupby(['date','hour_new']).size())\n",
    "    units[dock] = unitlen\n",
    "    \n",
    "units = pd.DataFrame.from_dict(units, orient='index')\n",
    "units = units.reset_index()\n",
    "units.columns = ['dock_id', 'intervals']\n",
    "#units.sort('dock_id', ascending=True)[:10]"
   ]
  },
  {
   "cell_type": "code",
   "execution_count": 48,
   "metadata": {
    "collapsed": false
   },
   "outputs": [
    {
     "name": "stdout",
     "output_type": "stream",
     "text": [
      "501\n",
      "492\n",
      "253\n"
     ]
    }
   ],
   "source": [
    "# Selecting only those station ids within 20% of 720 intervals\n",
    "nov2015_docks = units.loc[units['intervals']>int(720-0.20*720),'dock_id'].tolist()\n",
    "\n",
    "# Checking for differences from actual dock_id numbers\n",
    "print(len(datanov2015['dock_id'].unique()))\n",
    "print(len(nov2015_docks))\n",
    "\n",
    "# Intersecting with nov2015 station list\n",
    "nov2015_docks = intersect(nov2015_docks, oct2015_docks)\n",
    "print(len(nov2015_docks))"
   ]
  },
  {
   "cell_type": "markdown",
   "metadata": {},
   "source": [
    "### Subsetting for final set of stations across all months"
   ]
  },
  {
   "cell_type": "code",
   "execution_count": 49,
   "metadata": {
    "collapsed": false
   },
   "outputs": [
    {
     "name": "stdout",
     "output_type": "stream",
     "text": [
      "253\n"
     ]
    }
   ],
   "source": [
    "filenames = [datamar2015, dataapr2015, datamay2015, \n",
    "             datajun2015, datajul2015, dataaug2015, \n",
    "             datasep2015, dataoct2015, datanov2015]\n",
    "\n",
    "final_docks = nov2015_docks\n",
    "print(len(final_docks))"
   ]
  },
  {
   "cell_type": "code",
   "execution_count": 50,
   "metadata": {
    "collapsed": true
   },
   "outputs": [],
   "source": [
    "def subsetdocks(filename):\n",
    "    global data\n",
    "    data = filename\n",
    "    data = data[data['dock_id'].isin(final_docks)]\n",
    "    return data"
   ]
  },
  {
   "cell_type": "code",
   "execution_count": 51,
   "metadata": {
    "collapsed": false
   },
   "outputs": [],
   "source": [
    "dockmaster = pd.DataFrame()\n",
    "\n",
    "for i in range(len(filenames)):\n",
    "    subsetdocks(filenames[i])\n",
    "    dockmaster = pd.concat([dockmaster, data], axis=0)"
   ]
  },
  {
   "cell_type": "code",
   "execution_count": 52,
   "metadata": {
    "collapsed": false
   },
   "outputs": [
    {
     "name": "stdout",
     "output_type": "stream",
     "text": [
      "(7313589, 14)\n",
      "253\n"
     ]
    }
   ],
   "source": [
    "# Doing checks on the merger master file\n",
    "# Making a copy of master file\n",
    "dockmaster_1 = dockmaster.copy()\n",
    "print(dockmaster_1.shape)\n",
    "print(len(dockmaster_1['dock_id'].unique()))"
   ]
  },
  {
   "cell_type": "code",
   "execution_count": 53,
   "metadata": {
    "collapsed": false
   },
   "outputs": [
    {
     "name": "stdout",
     "output_type": "stream",
     "text": [
      "<class 'pandas.core.frame.DataFrame'>\n",
      "Int64Index: 7313589 entries, 0 to 964939\n",
      "Data columns (total 14 columns):\n",
      "dock_id        int64\n",
      "dock_name      object\n",
      "date           object\n",
      "hour           int64\n",
      "minute         int64\n",
      "pm             int64\n",
      "avail_bikes    object\n",
      "avail_docks    float64\n",
      "tot_docks      float64\n",
      "_lat           float64\n",
      "_long          object\n",
      "in_service     float64\n",
      "status_key     float64\n",
      "hour_new       int64\n",
      "dtypes: float64(5), int64(5), object(4)\n",
      "memory usage: 837.0+ MB\n"
     ]
    }
   ],
   "source": [
    "# Checking for data types\n",
    "dockmaster_1.info()"
   ]
  },
  {
   "cell_type": "code",
   "execution_count": 54,
   "metadata": {
    "collapsed": false
   },
   "outputs": [
    {
     "data": {
      "text/html": [
       "<div>\n",
       "<table border=\"1\" class=\"dataframe\">\n",
       "  <thead>\n",
       "    <tr style=\"text-align: right;\">\n",
       "      <th></th>\n",
       "      <th>dock_id</th>\n",
       "      <th>dock_name</th>\n",
       "      <th>date</th>\n",
       "      <th>hour</th>\n",
       "      <th>minute</th>\n",
       "      <th>pm</th>\n",
       "      <th>avail_bikes</th>\n",
       "      <th>avail_docks</th>\n",
       "      <th>tot_docks</th>\n",
       "      <th>_lat</th>\n",
       "      <th>_long</th>\n",
       "      <th>in_service</th>\n",
       "      <th>status_key</th>\n",
       "      <th>hour_new</th>\n",
       "    </tr>\n",
       "  </thead>\n",
       "  <tbody>\n",
       "    <tr>\n",
       "      <th>0</th>\n",
       "      <td>72</td>\n",
       "      <td>W 52 St &amp; 11 Ave</td>\n",
       "      <td>15-03-01</td>\n",
       "      <td>1</td>\n",
       "      <td>6</td>\n",
       "      <td>0</td>\n",
       "      <td>8</td>\n",
       "      <td>31</td>\n",
       "      <td>39</td>\n",
       "      <td>40.767272</td>\n",
       "      <td>-73.99393</td>\n",
       "      <td>1</td>\n",
       "      <td>1</td>\n",
       "      <td>0</td>\n",
       "    </tr>\n",
       "    <tr>\n",
       "      <th>1</th>\n",
       "      <td>72</td>\n",
       "      <td>W 52 St &amp; 11 Ave</td>\n",
       "      <td>15-03-01</td>\n",
       "      <td>1</td>\n",
       "      <td>16</td>\n",
       "      <td>0</td>\n",
       "      <td>8</td>\n",
       "      <td>31</td>\n",
       "      <td>39</td>\n",
       "      <td>40.767272</td>\n",
       "      <td>-73.99393</td>\n",
       "      <td>1</td>\n",
       "      <td>1</td>\n",
       "      <td>0</td>\n",
       "    </tr>\n",
       "    <tr>\n",
       "      <th>2</th>\n",
       "      <td>72</td>\n",
       "      <td>W 52 St &amp; 11 Ave</td>\n",
       "      <td>15-03-01</td>\n",
       "      <td>1</td>\n",
       "      <td>25</td>\n",
       "      <td>0</td>\n",
       "      <td>8</td>\n",
       "      <td>30</td>\n",
       "      <td>38</td>\n",
       "      <td>40.767272</td>\n",
       "      <td>-73.99393</td>\n",
       "      <td>1</td>\n",
       "      <td>1</td>\n",
       "      <td>0</td>\n",
       "    </tr>\n",
       "    <tr>\n",
       "      <th>3</th>\n",
       "      <td>72</td>\n",
       "      <td>W 52 St &amp; 11 Ave</td>\n",
       "      <td>15-03-01</td>\n",
       "      <td>1</td>\n",
       "      <td>35</td>\n",
       "      <td>0</td>\n",
       "      <td>8</td>\n",
       "      <td>30</td>\n",
       "      <td>38</td>\n",
       "      <td>40.767272</td>\n",
       "      <td>-73.99393</td>\n",
       "      <td>1</td>\n",
       "      <td>1</td>\n",
       "      <td>0</td>\n",
       "    </tr>\n",
       "    <tr>\n",
       "      <th>4</th>\n",
       "      <td>72</td>\n",
       "      <td>W 52 St &amp; 11 Ave</td>\n",
       "      <td>15-03-01</td>\n",
       "      <td>1</td>\n",
       "      <td>45</td>\n",
       "      <td>0</td>\n",
       "      <td>8</td>\n",
       "      <td>30</td>\n",
       "      <td>38</td>\n",
       "      <td>40.767272</td>\n",
       "      <td>-73.99393</td>\n",
       "      <td>1</td>\n",
       "      <td>1</td>\n",
       "      <td>0</td>\n",
       "    </tr>\n",
       "  </tbody>\n",
       "</table>\n",
       "</div>"
      ],
      "text/plain": [
       "   dock_id         dock_name      date  hour  minute  pm avail_bikes  \\\n",
       "0       72  W 52 St & 11 Ave  15-03-01     1       6   0           8   \n",
       "1       72  W 52 St & 11 Ave  15-03-01     1      16   0           8   \n",
       "2       72  W 52 St & 11 Ave  15-03-01     1      25   0           8   \n",
       "3       72  W 52 St & 11 Ave  15-03-01     1      35   0           8   \n",
       "4       72  W 52 St & 11 Ave  15-03-01     1      45   0           8   \n",
       "\n",
       "   avail_docks  tot_docks       _lat     _long  in_service  status_key  \\\n",
       "0           31         39  40.767272 -73.99393           1           1   \n",
       "1           31         39  40.767272 -73.99393           1           1   \n",
       "2           30         38  40.767272 -73.99393           1           1   \n",
       "3           30         38  40.767272 -73.99393           1           1   \n",
       "4           30         38  40.767272 -73.99393           1           1   \n",
       "\n",
       "   hour_new  \n",
       "0         0  \n",
       "1         0  \n",
       "2         0  \n",
       "3         0  \n",
       "4         0  "
      ]
     },
     "execution_count": 54,
     "metadata": {},
     "output_type": "execute_result"
    }
   ],
   "source": [
    "# Checking for first few observations\n",
    "dockmaster_1.head()"
   ]
  },
  {
   "cell_type": "code",
   "execution_count": 55,
   "metadata": {
    "collapsed": false
   },
   "outputs": [
    {
     "data": {
      "text/plain": [
       "1    7313589\n",
       "dtype: int64"
      ]
     },
     "execution_count": 55,
     "metadata": {},
     "output_type": "execute_result"
    }
   ],
   "source": [
    "# Removing records related to invalid status key column\n",
    "dockmaster_1['status_key'].value_counts()"
   ]
  },
  {
   "cell_type": "code",
   "execution_count": 56,
   "metadata": {
    "collapsed": false
   },
   "outputs": [
    {
     "data": {
      "text/plain": [
       "(7313589, 10)"
      ]
     },
     "execution_count": 56,
     "metadata": {},
     "output_type": "execute_result"
    }
   ],
   "source": [
    "# Dropping unnecessary columns from the data\n",
    "dockmaster_1.drop(['in_service', 'status_key', '_lat', '_long'], axis=1, inplace=True)\n",
    "dockmaster_1.shape"
   ]
  },
  {
   "cell_type": "markdown",
   "metadata": {},
   "source": [
    "### Aggregating the station feed data across one hour intervals"
   ]
  },
  {
   "cell_type": "code",
   "execution_count": 57,
   "metadata": {
    "collapsed": false
   },
   "outputs": [],
   "source": [
    "collst = [u'dock_id', u'date', u'pm', u'hour', u'hour_new', u'minute', \n",
    "          u'avail_bikes', u'avail_docks', u'tot_docks']"
   ]
  },
  {
   "cell_type": "code",
   "execution_count": 58,
   "metadata": {
    "collapsed": false
   },
   "outputs": [
    {
     "name": "stdout",
     "output_type": "stream",
     "text": [
      "(7313589, 10)\n",
      "(7313589, 9)\n"
     ]
    }
   ],
   "source": [
    "# Making a copy of master file\n",
    "dockmaster_2 = dockmaster_1.copy()\n",
    "print(dockmaster_2.shape)\n",
    "\n",
    "# Subset only for required columns\n",
    "dockmaster_2 = dockmaster_2[collst]\n",
    "print(dockmaster_2.shape)"
   ]
  },
  {
   "cell_type": "code",
   "execution_count": 59,
   "metadata": {
    "collapsed": false
   },
   "outputs": [
    {
     "name": "stdout",
     "output_type": "stream",
     "text": [
      "<class 'pandas.core.frame.DataFrame'>\n",
      "Int64Index: 7313589 entries, 0 to 964939\n",
      "Data columns (total 9 columns):\n",
      "dock_id        int64\n",
      "date           object\n",
      "pm             int64\n",
      "hour           int64\n",
      "hour_new       int64\n",
      "minute         int64\n",
      "avail_bikes    object\n",
      "avail_docks    float64\n",
      "tot_docks      float64\n",
      "dtypes: float64(2), int64(5), object(2)\n",
      "memory usage: 558.0+ MB\n"
     ]
    }
   ],
   "source": [
    "# Checking for datatypes\n",
    "dockmaster_2.info()"
   ]
  },
  {
   "cell_type": "code",
   "execution_count": 60,
   "metadata": {
    "collapsed": true
   },
   "outputs": [],
   "source": [
    "# Converting avail_bikes to float\n",
    "dockmaster_2['avail_bikes'] = dockmaster_2['avail_bikes'].apply(lambda x: float(x))"
   ]
  },
  {
   "cell_type": "code",
   "execution_count": 61,
   "metadata": {
    "collapsed": false
   },
   "outputs": [
    {
     "data": {
      "text/html": [
       "<div>\n",
       "<table border=\"1\" class=\"dataframe\">\n",
       "  <thead>\n",
       "    <tr style=\"text-align: right;\">\n",
       "      <th></th>\n",
       "      <th>dock_id</th>\n",
       "      <th>pm</th>\n",
       "      <th>hour</th>\n",
       "      <th>hour_new</th>\n",
       "      <th>minute</th>\n",
       "      <th>avail_bikes</th>\n",
       "      <th>avail_docks</th>\n",
       "      <th>tot_docks</th>\n",
       "    </tr>\n",
       "  </thead>\n",
       "  <tbody>\n",
       "    <tr>\n",
       "      <th>count</th>\n",
       "      <td>7313589.000000</td>\n",
       "      <td>7313589.000000</td>\n",
       "      <td>7313589.000000</td>\n",
       "      <td>7313589.000000</td>\n",
       "      <td>7313589.000000</td>\n",
       "      <td>7313587.000000</td>\n",
       "      <td>7313589.000000</td>\n",
       "      <td>7313589.000000</td>\n",
       "    </tr>\n",
       "    <tr>\n",
       "      <th>mean</th>\n",
       "      <td>430.565915</td>\n",
       "      <td>0.528802</td>\n",
       "      <td>6.625557</td>\n",
       "      <td>11.971177</td>\n",
       "      <td>29.501664</td>\n",
       "      <td>12.149173</td>\n",
       "      <td>20.733916</td>\n",
       "      <td>33.633029</td>\n",
       "    </tr>\n",
       "    <tr>\n",
       "      <th>std</th>\n",
       "      <td>337.905667</td>\n",
       "      <td>0.499170</td>\n",
       "      <td>3.451159</td>\n",
       "      <td>6.826053</td>\n",
       "      <td>17.332662</td>\n",
       "      <td>10.800821</td>\n",
       "      <td>13.014108</td>\n",
       "      <td>10.177426</td>\n",
       "    </tr>\n",
       "    <tr>\n",
       "      <th>min</th>\n",
       "      <td>72.000000</td>\n",
       "      <td>0.000000</td>\n",
       "      <td>1.000000</td>\n",
       "      <td>0.000000</td>\n",
       "      <td>0.000000</td>\n",
       "      <td>0.000000</td>\n",
       "      <td>0.000000</td>\n",
       "      <td>0.000000</td>\n",
       "    </tr>\n",
       "    <tr>\n",
       "      <th>25%</th>\n",
       "      <td>297.000000</td>\n",
       "      <td>0.000000</td>\n",
       "      <td>4.000000</td>\n",
       "      <td>6.000000</td>\n",
       "      <td>14.000000</td>\n",
       "      <td>3.000000</td>\n",
       "      <td>11.000000</td>\n",
       "      <td>27.000000</td>\n",
       "    </tr>\n",
       "    <tr>\n",
       "      <th>50%</th>\n",
       "      <td>385.000000</td>\n",
       "      <td>1.000000</td>\n",
       "      <td>7.000000</td>\n",
       "      <td>12.000000</td>\n",
       "      <td>29.000000</td>\n",
       "      <td>9.000000</td>\n",
       "      <td>20.000000</td>\n",
       "      <td>31.000000</td>\n",
       "    </tr>\n",
       "    <tr>\n",
       "      <th>75%</th>\n",
       "      <td>466.000000</td>\n",
       "      <td>1.000000</td>\n",
       "      <td>10.000000</td>\n",
       "      <td>18.000000</td>\n",
       "      <td>45.000000</td>\n",
       "      <td>19.000000</td>\n",
       "      <td>29.000000</td>\n",
       "      <td>39.000000</td>\n",
       "    </tr>\n",
       "    <tr>\n",
       "      <th>max</th>\n",
       "      <td>2023.000000</td>\n",
       "      <td>1.000000</td>\n",
       "      <td>12.000000</td>\n",
       "      <td>23.000000</td>\n",
       "      <td>59.000000</td>\n",
       "      <td>226.000000</td>\n",
       "      <td>62.000000</td>\n",
       "      <td>62.000000</td>\n",
       "    </tr>\n",
       "  </tbody>\n",
       "</table>\n",
       "</div>"
      ],
      "text/plain": [
       "              dock_id              pm            hour        hour_new  \\\n",
       "count  7313589.000000  7313589.000000  7313589.000000  7313589.000000   \n",
       "mean       430.565915        0.528802        6.625557       11.971177   \n",
       "std        337.905667        0.499170        3.451159        6.826053   \n",
       "min         72.000000        0.000000        1.000000        0.000000   \n",
       "25%        297.000000        0.000000        4.000000        6.000000   \n",
       "50%        385.000000        1.000000        7.000000       12.000000   \n",
       "75%        466.000000        1.000000       10.000000       18.000000   \n",
       "max       2023.000000        1.000000       12.000000       23.000000   \n",
       "\n",
       "               minute     avail_bikes     avail_docks       tot_docks  \n",
       "count  7313589.000000  7313587.000000  7313589.000000  7313589.000000  \n",
       "mean        29.501664       12.149173       20.733916       33.633029  \n",
       "std         17.332662       10.800821       13.014108       10.177426  \n",
       "min          0.000000        0.000000        0.000000        0.000000  \n",
       "25%         14.000000        3.000000       11.000000       27.000000  \n",
       "50%         29.000000        9.000000       20.000000       31.000000  \n",
       "75%         45.000000       19.000000       29.000000       39.000000  \n",
       "max         59.000000      226.000000       62.000000       62.000000  "
      ]
     },
     "execution_count": 61,
     "metadata": {},
     "output_type": "execute_result"
    }
   ],
   "source": [
    "# Checking for descriptive statistics for avail_bikes, avail_docks, tot_docks columns\n",
    "dockmaster_2.describe()"
   ]
  },
  {
   "cell_type": "markdown",
   "metadata": {},
   "source": [
    ">__From the above output, the following insights can be made:__\n",
    "\n",
    ">__1.__ avail bikes column seems to have two missing values <br>\n",
    ">__2.__ avail bikes seems to have some extreme values suggested by the max value <br>\n",
    ">__3.__ avail docks and tot_docks seem to be consistent in terms of range of possible values"
   ]
  },
  {
   "cell_type": "code",
   "execution_count": 62,
   "metadata": {
    "collapsed": false
   },
   "outputs": [
    {
     "data": {
      "text/html": [
       "<div>\n",
       "<table border=\"1\" class=\"dataframe\">\n",
       "  <thead>\n",
       "    <tr style=\"text-align: right;\">\n",
       "      <th></th>\n",
       "      <th>dock_id</th>\n",
       "      <th>date</th>\n",
       "      <th>pm</th>\n",
       "      <th>hour</th>\n",
       "      <th>hour_new</th>\n",
       "      <th>minute</th>\n",
       "      <th>avail_bikes</th>\n",
       "      <th>avail_docks</th>\n",
       "      <th>tot_docks</th>\n",
       "    </tr>\n",
       "  </thead>\n",
       "  <tbody>\n",
       "    <tr>\n",
       "      <th>12298</th>\n",
       "      <td>127</td>\n",
       "      <td>15-04-10</td>\n",
       "      <td>0</td>\n",
       "      <td>9</td>\n",
       "      <td>8</td>\n",
       "      <td>6</td>\n",
       "      <td>NaN</td>\n",
       "      <td>28</td>\n",
       "      <td>28</td>\n",
       "    </tr>\n",
       "    <tr>\n",
       "      <th>26598</th>\n",
       "      <td>143</td>\n",
       "      <td>15-06-27</td>\n",
       "      <td>0</td>\n",
       "      <td>11</td>\n",
       "      <td>10</td>\n",
       "      <td>44</td>\n",
       "      <td>NaN</td>\n",
       "      <td>7</td>\n",
       "      <td>24</td>\n",
       "    </tr>\n",
       "  </tbody>\n",
       "</table>\n",
       "</div>"
      ],
      "text/plain": [
       "       dock_id      date  pm  hour  hour_new  minute  avail_bikes  \\\n",
       "12298      127  15-04-10   0     9         8       6          NaN   \n",
       "26598      143  15-06-27   0    11        10      44          NaN   \n",
       "\n",
       "       avail_docks  tot_docks  \n",
       "12298           28         28  \n",
       "26598            7         24  "
      ]
     },
     "execution_count": 62,
     "metadata": {},
     "output_type": "execute_result"
    }
   ],
   "source": [
    "dockmaster_2[dockmaster_2['avail_bikes'].isnull()]"
   ]
  },
  {
   "cell_type": "code",
   "execution_count": 63,
   "metadata": {
    "collapsed": false
   },
   "outputs": [],
   "source": [
    "# Replace missing value for dock_id 127\n",
    "mean127_na = dockmaster_2.loc[(dockmaster_2['dock_id']==127) &\n",
    "                              (dockmaster_2['hour_new']==8), 'avail_bikes'].mean()\n",
    "#print mean127_na\n",
    "\n",
    "dockmaster_2.loc[(dockmaster_2['avail_bikes'].isnull()) & \n",
    "                 (dockmaster_2['dock_id']==127), 'avail_bikes'] = mean127_na\n",
    "\n",
    "# Replace missing value for dock_id 143\n",
    "mean143_na = dockmaster_2.loc[(dockmaster_2['dock_id']==143) &\n",
    "                              (dockmaster_2['hour_new']==10), 'avail_bikes'].mean()\n",
    "#print mean143_na\n",
    "\n",
    "dockmaster_2.loc[(dockmaster_2['avail_bikes'].isnull()) & \n",
    "                 (dockmaster_2['dock_id']==143), 'avail_bikes'] = mean143_na"
   ]
  },
  {
   "cell_type": "code",
   "execution_count": 64,
   "metadata": {
    "collapsed": false
   },
   "outputs": [
    {
     "data": {
      "text/html": [
       "<div>\n",
       "<table border=\"1\" class=\"dataframe\">\n",
       "  <thead>\n",
       "    <tr style=\"text-align: right;\">\n",
       "      <th></th>\n",
       "      <th>avail_bikes</th>\n",
       "      <th>avail_docks</th>\n",
       "      <th>tot_docks</th>\n",
       "    </tr>\n",
       "  </thead>\n",
       "  <tbody>\n",
       "    <tr>\n",
       "      <th>count</th>\n",
       "      <td>7313589.000000</td>\n",
       "      <td>7313589.000000</td>\n",
       "      <td>7313589.000000</td>\n",
       "    </tr>\n",
       "    <tr>\n",
       "      <th>mean</th>\n",
       "      <td>12.149172</td>\n",
       "      <td>20.733916</td>\n",
       "      <td>33.633029</td>\n",
       "    </tr>\n",
       "    <tr>\n",
       "      <th>std</th>\n",
       "      <td>10.800820</td>\n",
       "      <td>13.014108</td>\n",
       "      <td>10.177426</td>\n",
       "    </tr>\n",
       "    <tr>\n",
       "      <th>min</th>\n",
       "      <td>0.000000</td>\n",
       "      <td>0.000000</td>\n",
       "      <td>0.000000</td>\n",
       "    </tr>\n",
       "    <tr>\n",
       "      <th>25%</th>\n",
       "      <td>3.000000</td>\n",
       "      <td>11.000000</td>\n",
       "      <td>27.000000</td>\n",
       "    </tr>\n",
       "    <tr>\n",
       "      <th>50%</th>\n",
       "      <td>9.000000</td>\n",
       "      <td>20.000000</td>\n",
       "      <td>31.000000</td>\n",
       "    </tr>\n",
       "    <tr>\n",
       "      <th>75%</th>\n",
       "      <td>19.000000</td>\n",
       "      <td>29.000000</td>\n",
       "      <td>39.000000</td>\n",
       "    </tr>\n",
       "    <tr>\n",
       "      <th>max</th>\n",
       "      <td>226.000000</td>\n",
       "      <td>62.000000</td>\n",
       "      <td>62.000000</td>\n",
       "    </tr>\n",
       "  </tbody>\n",
       "</table>\n",
       "</div>"
      ],
      "text/plain": [
       "          avail_bikes     avail_docks       tot_docks\n",
       "count  7313589.000000  7313589.000000  7313589.000000\n",
       "mean        12.149172       20.733916       33.633029\n",
       "std         10.800820       13.014108       10.177426\n",
       "min          0.000000        0.000000        0.000000\n",
       "25%          3.000000       11.000000       27.000000\n",
       "50%          9.000000       20.000000       31.000000\n",
       "75%         19.000000       29.000000       39.000000\n",
       "max        226.000000       62.000000       62.000000"
      ]
     },
     "execution_count": 64,
     "metadata": {},
     "output_type": "execute_result"
    }
   ],
   "source": [
    "# Checking again after replacing missing values\n",
    "dockmaster_2[[u'avail_bikes', u'avail_docks', u'tot_docks']].describe()"
   ]
  },
  {
   "cell_type": "code",
   "execution_count": 65,
   "metadata": {
    "collapsed": false
   },
   "outputs": [
    {
     "data": {
      "text/plain": [
       "(1529603, 3)"
      ]
     },
     "execution_count": 65,
     "metadata": {},
     "output_type": "execute_result"
    }
   ],
   "source": [
    "# Aggreating columns by dock_id and interv\n",
    "grouped = dockmaster_2.groupby(['dock_id', 'date', 'hour_new'])\n",
    "\n",
    "aggregations = {'avail_bikes': lambda x: np.mean(x),  \n",
    "                'avail_docks': lambda x: np.mean(x), \n",
    "                'tot_docks': lambda x: np.mean(x)}\n",
    "\n",
    "hrintervals = grouped.agg(aggregations)\n",
    "hrintervals.shape"
   ]
  },
  {
   "cell_type": "code",
   "execution_count": 66,
   "metadata": {
    "collapsed": false
   },
   "outputs": [
    {
     "data": {
      "text/html": [
       "<div>\n",
       "<table border=\"1\" class=\"dataframe\">\n",
       "  <thead>\n",
       "    <tr style=\"text-align: right;\">\n",
       "      <th></th>\n",
       "      <th>dock_id</th>\n",
       "      <th>date</th>\n",
       "      <th>hour_new</th>\n",
       "      <th>avail_docks</th>\n",
       "      <th>tot_docks</th>\n",
       "      <th>avail_bikes</th>\n",
       "    </tr>\n",
       "  </thead>\n",
       "  <tbody>\n",
       "    <tr>\n",
       "      <th>0</th>\n",
       "      <td>72</td>\n",
       "      <td>15-03-01</td>\n",
       "      <td>0</td>\n",
       "      <td>30.500000</td>\n",
       "      <td>38.333333</td>\n",
       "      <td>7.833333</td>\n",
       "    </tr>\n",
       "    <tr>\n",
       "      <th>1</th>\n",
       "      <td>72</td>\n",
       "      <td>15-03-01</td>\n",
       "      <td>1</td>\n",
       "      <td>30.833333</td>\n",
       "      <td>38.833333</td>\n",
       "      <td>8.000000</td>\n",
       "    </tr>\n",
       "    <tr>\n",
       "      <th>2</th>\n",
       "      <td>72</td>\n",
       "      <td>15-03-01</td>\n",
       "      <td>2</td>\n",
       "      <td>30.166667</td>\n",
       "      <td>38.166667</td>\n",
       "      <td>8.000000</td>\n",
       "    </tr>\n",
       "    <tr>\n",
       "      <th>3</th>\n",
       "      <td>72</td>\n",
       "      <td>15-03-01</td>\n",
       "      <td>3</td>\n",
       "      <td>30.833333</td>\n",
       "      <td>38.833333</td>\n",
       "      <td>8.000000</td>\n",
       "    </tr>\n",
       "    <tr>\n",
       "      <th>4</th>\n",
       "      <td>72</td>\n",
       "      <td>15-03-01</td>\n",
       "      <td>4</td>\n",
       "      <td>30.857143</td>\n",
       "      <td>38.857143</td>\n",
       "      <td>8.000000</td>\n",
       "    </tr>\n",
       "  </tbody>\n",
       "</table>\n",
       "</div>"
      ],
      "text/plain": [
       "   dock_id      date  hour_new  avail_docks  tot_docks  avail_bikes\n",
       "0       72  15-03-01         0    30.500000  38.333333     7.833333\n",
       "1       72  15-03-01         1    30.833333  38.833333     8.000000\n",
       "2       72  15-03-01         2    30.166667  38.166667     8.000000\n",
       "3       72  15-03-01         3    30.833333  38.833333     8.000000\n",
       "4       72  15-03-01         4    30.857143  38.857143     8.000000"
      ]
     },
     "execution_count": 66,
     "metadata": {},
     "output_type": "execute_result"
    }
   ],
   "source": [
    "# Converting multiindex to columns\n",
    "hrintervals = hrintervals.reset_index()\n",
    "hrintervals.head()"
   ]
  },
  {
   "cell_type": "code",
   "execution_count": 67,
   "metadata": {
    "collapsed": false
   },
   "outputs": [
    {
     "data": {
      "text/html": [
       "<div>\n",
       "<table border=\"1\" class=\"dataframe\">\n",
       "  <thead>\n",
       "    <tr style=\"text-align: right;\">\n",
       "      <th></th>\n",
       "      <th>avail_bikes</th>\n",
       "      <th>avail_docks</th>\n",
       "      <th>tot_docks</th>\n",
       "    </tr>\n",
       "  </thead>\n",
       "  <tbody>\n",
       "    <tr>\n",
       "      <th>count</th>\n",
       "      <td>1529603.000000</td>\n",
       "      <td>1529603.000000</td>\n",
       "      <td>1529603.00000</td>\n",
       "    </tr>\n",
       "    <tr>\n",
       "      <th>mean</th>\n",
       "      <td>12.424392</td>\n",
       "      <td>20.478471</td>\n",
       "      <td>33.75047</td>\n",
       "    </tr>\n",
       "    <tr>\n",
       "      <th>std</th>\n",
       "      <td>10.833860</td>\n",
       "      <td>13.043076</td>\n",
       "      <td>10.09497</td>\n",
       "    </tr>\n",
       "    <tr>\n",
       "      <th>min</th>\n",
       "      <td>0.000000</td>\n",
       "      <td>0.000000</td>\n",
       "      <td>0.00000</td>\n",
       "    </tr>\n",
       "    <tr>\n",
       "      <th>25%</th>\n",
       "      <td>3.166667</td>\n",
       "      <td>10.000000</td>\n",
       "      <td>27.00000</td>\n",
       "    </tr>\n",
       "    <tr>\n",
       "      <th>50%</th>\n",
       "      <td>9.800000</td>\n",
       "      <td>20.000000</td>\n",
       "      <td>32.00000</td>\n",
       "    </tr>\n",
       "    <tr>\n",
       "      <th>75%</th>\n",
       "      <td>19.400000</td>\n",
       "      <td>29.000000</td>\n",
       "      <td>39.00000</td>\n",
       "    </tr>\n",
       "    <tr>\n",
       "      <th>max</th>\n",
       "      <td>62.000000</td>\n",
       "      <td>62.000000</td>\n",
       "      <td>62.00000</td>\n",
       "    </tr>\n",
       "  </tbody>\n",
       "</table>\n",
       "</div>"
      ],
      "text/plain": [
       "          avail_bikes     avail_docks      tot_docks\n",
       "count  1529603.000000  1529603.000000  1529603.00000\n",
       "mean        12.424392       20.478471       33.75047\n",
       "std         10.833860       13.043076       10.09497\n",
       "min          0.000000        0.000000        0.00000\n",
       "25%          3.166667       10.000000       27.00000\n",
       "50%          9.800000       20.000000       32.00000\n",
       "75%         19.400000       29.000000       39.00000\n",
       "max         62.000000       62.000000       62.00000"
      ]
     },
     "execution_count": 67,
     "metadata": {},
     "output_type": "execute_result"
    }
   ],
   "source": [
    "#hrintervals.groupby(['dock_id']).size().value_counts()\n",
    "hrintervals[[u'avail_bikes', u'avail_docks', u'tot_docks']].describe()"
   ]
  },
  {
   "cell_type": "markdown",
   "metadata": {},
   "source": [
    "### Doing checks on the tot_docks distribution"
   ]
  },
  {
   "cell_type": "code",
   "execution_count": 68,
   "metadata": {
    "collapsed": false
   },
   "outputs": [
    {
     "data": {
      "text/plain": [
       "Index(['dock_id', 'date', 'hour_new', 'avail_docks', 'tot_docks',\n",
       "       'avail_bikes'],\n",
       "      dtype='object')"
      ]
     },
     "execution_count": 68,
     "metadata": {},
     "output_type": "execute_result"
    }
   ],
   "source": [
    "hrintervals.columns"
   ]
  },
  {
   "cell_type": "code",
   "execution_count": 84,
   "metadata": {
    "collapsed": false
   },
   "outputs": [
    {
     "data": {
      "text/plain": [
       "<matplotlib.axes._subplots.AxesSubplot at 0x17ac17240>"
      ]
     },
     "execution_count": 84,
     "metadata": {},
     "output_type": "execute_result"
    },
    {
     "data": {
      "image/png": "[encoded data removed]",
      "text/plain": [
       "<matplotlib.figure.Figure at 0x188ed1978>"
      ]
     },
     "metadata": {},
     "output_type": "display_data"
    }
   ],
   "source": [
    "hrintervals.boxplot(column='tot_docks', by='hour_new', figsize=(15,10))"
   ]
  },
  {
   "cell_type": "code",
   "execution_count": 85,
   "metadata": {
    "collapsed": false
   },
   "outputs": [
    {
     "data": {
      "text/plain": [
       "<matplotlib.axes._subplots.AxesSubplot at 0x173236860>"
      ]
     },
     "execution_count": 85,
     "metadata": {},
     "output_type": "execute_result"
    },
    {
     "data": {
      "image/png": "[encoded data removed]",
      "text/plain": [
       "<matplotlib.figure.Figure at 0x187fd7438>"
      ]
     },
     "metadata": {},
     "output_type": "display_data"
    }
   ],
   "source": [
    "hrintervals.boxplot(column='avail_bikes', by='hour_new', figsize=(15,10))"
   ]
  },
  {
   "cell_type": "code",
   "execution_count": 86,
   "metadata": {
    "collapsed": false
   },
   "outputs": [
    {
     "data": {
      "text/plain": [
       "<matplotlib.axes._subplots.AxesSubplot at 0x1731c0eb8>"
      ]
     },
     "execution_count": 86,
     "metadata": {},
     "output_type": "execute_result"
    },
    {
     "data": {
      "image/png": "[encoded data removed]",
      "text/plain": [
       "<matplotlib.figure.Figure at 0x1731c0400>"
      ]
     },
     "metadata": {},
     "output_type": "display_data"
    }
   ],
   "source": [
    "### Doing checks only for dock_id = 72\n",
    "data72 = hrintervals[hrintervals['dock_id']==72]\n",
    "data72.boxplot(column='avail_bikes', by='hour_new', figsize=(10,6))"
   ]
  },
  {
   "cell_type": "code",
   "execution_count": 87,
   "metadata": {
    "collapsed": false
   },
   "outputs": [
    {
     "data": {
      "text/plain": [
       "<matplotlib.axes._subplots.AxesSubplot at 0x1731c00b8>"
      ]
     },
     "execution_count": 87,
     "metadata": {},
     "output_type": "execute_result"
    },
    {
     "data": {
      "image/png": "[encoded data removed]",
      "text/plain": [
       "<matplotlib.figure.Figure at 0x15087a898>"
      ]
     },
     "metadata": {},
     "output_type": "display_data"
    }
   ],
   "source": [
    "### Doing checks only for dock_id = 137\n",
    "data137 = hrintervals[hrintervals['dock_id']==137]\n",
    "data137.boxplot(column='avail_bikes', by='hour_new', figsize=(10,6))"
   ]
  },
  {
   "cell_type": "code",
   "execution_count": 88,
   "metadata": {
    "collapsed": false
   },
   "outputs": [
    {
     "data": {
      "text/plain": [
       "<matplotlib.axes._subplots.AxesSubplot at 0x187efa898>"
      ]
     },
     "execution_count": 88,
     "metadata": {},
     "output_type": "execute_result"
    },
    {
     "data": {
      "image/png": "[encoded data removed]",
      "text/plain": [
       "<matplotlib.figure.Figure at 0x15087aa90>"
      ]
     },
     "metadata": {},
     "output_type": "display_data"
    }
   ],
   "source": [
    "### Doing checks only for dock_id = 119\n",
    "data119 = hrintervals[hrintervals['dock_id']==119]\n",
    "data119.boxplot(column='avail_bikes', by='hour_new', figsize=(10,6))"
   ]
  },
  {
   "cell_type": "markdown",
   "metadata": {},
   "source": [
    "### Exporting the aggregated data"
   ]
  },
  {
   "cell_type": "code",
   "execution_count": 71,
   "metadata": {
    "collapsed": false
   },
   "outputs": [],
   "source": [
    "# Exporting to text file to be used for later analysis\n",
    "hrintervals.to_csv(\"stationfeed_agg_final.csv\", index=False)"
   ]
  },
  {
   "cell_type": "markdown",
   "metadata": {},
   "source": [
    "### Getting unique station ids and names"
   ]
  },
  {
   "cell_type": "code",
   "execution_count": 72,
   "metadata": {
    "collapsed": false
   },
   "outputs": [
    {
     "data": {
      "text/plain": [
       "Index(['dock_id', 'dock_name', 'date', 'hour', 'minute', 'pm', 'avail_bikes',\n",
       "       'avail_docks', 'tot_docks', 'hour_new'],\n",
       "      dtype='object')"
      ]
     },
     "execution_count": 72,
     "metadata": {},
     "output_type": "execute_result"
    }
   ],
   "source": [
    "# Checking for column names\n",
    "dockmaster_1.columns"
   ]
  },
  {
   "cell_type": "code",
   "execution_count": 73,
   "metadata": {
    "collapsed": false
   },
   "outputs": [
    {
     "name": "stdout",
     "output_type": "stream",
     "text": [
      "(258, 3)\n",
      "253\n",
      "258\n"
     ]
    },
    {
     "data": {
      "text/html": [
       "<div>\n",
       "<table border=\"1\" class=\"dataframe\">\n",
       "  <thead>\n",
       "    <tr style=\"text-align: right;\">\n",
       "      <th></th>\n",
       "      <th>dock_id</th>\n",
       "      <th>dock_name</th>\n",
       "      <th>0</th>\n",
       "    </tr>\n",
       "  </thead>\n",
       "  <tbody>\n",
       "    <tr>\n",
       "      <th>0</th>\n",
       "      <td>72</td>\n",
       "      <td>W 52 St &amp; 11 Ave</td>\n",
       "      <td>28851</td>\n",
       "    </tr>\n",
       "    <tr>\n",
       "      <th>1</th>\n",
       "      <td>79</td>\n",
       "      <td>Franklin St &amp; W Broadway</td>\n",
       "      <td>28961</td>\n",
       "    </tr>\n",
       "    <tr>\n",
       "      <th>2</th>\n",
       "      <td>82</td>\n",
       "      <td>St James Pl &amp; Pearl St</td>\n",
       "      <td>28953</td>\n",
       "    </tr>\n",
       "    <tr>\n",
       "      <th>3</th>\n",
       "      <td>83</td>\n",
       "      <td>Atlantic Ave &amp; Fort Greene Pl</td>\n",
       "      <td>28988</td>\n",
       "    </tr>\n",
       "    <tr>\n",
       "      <th>4</th>\n",
       "      <td>119</td>\n",
       "      <td>Park Ave &amp; St Edwards St</td>\n",
       "      <td>28806</td>\n",
       "    </tr>\n",
       "  </tbody>\n",
       "</table>\n",
       "</div>"
      ],
      "text/plain": [
       "   dock_id                      dock_name      0\n",
       "0       72               W 52 St & 11 Ave  28851\n",
       "1       79       Franklin St & W Broadway  28961\n",
       "2       82         St James Pl & Pearl St  28953\n",
       "3       83  Atlantic Ave & Fort Greene Pl  28988\n",
       "4      119       Park Ave & St Edwards St  28806"
      ]
     },
     "execution_count": 73,
     "metadata": {},
     "output_type": "execute_result"
    }
   ],
   "source": [
    "# Extracting station id and station name into separate data\n",
    "station_names = dockmaster_1.groupby(['dock_id', 'dock_name']).size().reset_index()\n",
    "print(station_names.shape)\n",
    "print(len(station_names['dock_id'].unique()))\n",
    "print(len(station_names['dock_name'].unique()))\n",
    "station_names.head()"
   ]
  },
  {
   "cell_type": "code",
   "execution_count": 74,
   "metadata": {
    "collapsed": false
   },
   "outputs": [
    {
     "data": {
      "text/plain": [
       "399    3\n",
       "443    2\n",
       "433    2\n",
       "242    2\n",
       "527    1\n",
       "dtype: int64"
      ]
     },
     "execution_count": 74,
     "metadata": {},
     "output_type": "execute_result"
    }
   ],
   "source": [
    "# Checking for duplicate records at dock_id level\n",
    "station_names['dock_id'].value_counts().order(ascending=False)[:5]"
   ]
  },
  {
   "cell_type": "code",
   "execution_count": 75,
   "metadata": {
    "collapsed": false
   },
   "outputs": [
    {
     "data": {
      "text/html": [
       "<div>\n",
       "<table border=\"1\" class=\"dataframe\">\n",
       "  <thead>\n",
       "    <tr style=\"text-align: right;\">\n",
       "      <th></th>\n",
       "      <th>dock_id</th>\n",
       "      <th>dock_name</th>\n",
       "      <th>0</th>\n",
       "    </tr>\n",
       "  </thead>\n",
       "  <tbody>\n",
       "    <tr>\n",
       "      <th>139</th>\n",
       "      <td>399</td>\n",
       "      <td>Lafayette Ave &amp; St Jaes Pl</td>\n",
       "      <td>1</td>\n",
       "    </tr>\n",
       "    <tr>\n",
       "      <th>140</th>\n",
       "      <td>399</td>\n",
       "      <td>Lafayette Ave &amp; St James Pl</td>\n",
       "      <td>28967</td>\n",
       "    </tr>\n",
       "    <tr>\n",
       "      <th>141</th>\n",
       "      <td>399</td>\n",
       "      <td>Laffayette Ave &amp; St James Pl</td>\n",
       "      <td>1</td>\n",
       "    </tr>\n",
       "  </tbody>\n",
       "</table>\n",
       "</div>"
      ],
      "text/plain": [
       "     dock_id                     dock_name      0\n",
       "139      399    Lafayette Ave & St Jaes Pl      1\n",
       "140      399   Lafayette Ave & St James Pl  28967\n",
       "141      399  Laffayette Ave & St James Pl      1"
      ]
     },
     "execution_count": 75,
     "metadata": {},
     "output_type": "execute_result"
    }
   ],
   "source": [
    "station_names[station_names['dock_id']==399]"
   ]
  },
  {
   "cell_type": "code",
   "execution_count": 76,
   "metadata": {
    "collapsed": false
   },
   "outputs": [
    {
     "name": "stdout",
     "output_type": "stream",
     "text": [
      "(253, 2)\n",
      "253\n",
      "253\n"
     ]
    },
    {
     "data": {
      "text/html": [
       "<div>\n",
       "<table border=\"1\" class=\"dataframe\">\n",
       "  <thead>\n",
       "    <tr style=\"text-align: right;\">\n",
       "      <th></th>\n",
       "      <th>dock_id</th>\n",
       "      <th>dock_name</th>\n",
       "    </tr>\n",
       "  </thead>\n",
       "  <tbody>\n",
       "    <tr>\n",
       "      <th>0</th>\n",
       "      <td>72</td>\n",
       "      <td>W 52 St &amp; 11 Ave</td>\n",
       "    </tr>\n",
       "    <tr>\n",
       "      <th>1</th>\n",
       "      <td>79</td>\n",
       "      <td>Franklin St &amp; W Broadway</td>\n",
       "    </tr>\n",
       "    <tr>\n",
       "      <th>2</th>\n",
       "      <td>82</td>\n",
       "      <td>St James Pl &amp; Pearl St</td>\n",
       "    </tr>\n",
       "    <tr>\n",
       "      <th>3</th>\n",
       "      <td>83</td>\n",
       "      <td>Atlantic Ave &amp; Fort Greene Pl</td>\n",
       "    </tr>\n",
       "    <tr>\n",
       "      <th>4</th>\n",
       "      <td>119</td>\n",
       "      <td>Park Ave &amp; St Edwards St</td>\n",
       "    </tr>\n",
       "  </tbody>\n",
       "</table>\n",
       "</div>"
      ],
      "text/plain": [
       "   dock_id                      dock_name\n",
       "0       72               W 52 St & 11 Ave\n",
       "1       79       Franklin St & W Broadway\n",
       "2       82         St James Pl & Pearl St\n",
       "3       83  Atlantic Ave & Fort Greene Pl\n",
       "4      119       Park Ave & St Edwards St"
      ]
     },
     "execution_count": 76,
     "metadata": {},
     "output_type": "execute_result"
    }
   ],
   "source": [
    "# Drop column and duplicate records\n",
    "station_names.drop(0, axis=1, inplace=True)\n",
    "station_names.drop_duplicates('dock_id', inplace=True)\n",
    "print(station_names.shape)\n",
    "print(len(station_names['dock_id'].unique()))\n",
    "print(len(station_names['dock_name'].unique()))\n",
    "station_names.head()"
   ]
  },
  {
   "cell_type": "code",
   "execution_count": 77,
   "metadata": {
    "collapsed": true
   },
   "outputs": [],
   "source": [
    "# Exporting to text file to be used for later analysis\n",
    "station_names.to_csv(\"station_names.txt\", sep='|', index=False)"
   ]
  },
  {
   "cell_type": "code",
   "execution_count": null,
   "metadata": {
    "collapsed": true
   },
   "outputs": [],
   "source": []
  }
 ],
 "metadata": {
  "kernelspec": {
   "display_name": "Python 3",
   "language": "python",
   "name": "python3"
  },
  "language_info": {
   "codemirror_mode": {
    "name": "ipython",
    "version": 3
   },
   "file_extension": ".py",
   "mimetype": "text/x-python",
   "name": "python",
   "nbconvert_exporter": "python",
   "pygments_lexer": "ipython3",
   "version": "3.4.3"
  }
 },
 "nbformat": 4,
 "nbformat_minor": 0
}
